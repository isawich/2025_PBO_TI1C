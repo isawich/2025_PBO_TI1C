{
  "nbformat": 4,
  "nbformat_minor": 0,
  "metadata": {
    "colab": {
      "provenance": [],
      "authorship_tag": "ABX9TyPKeZ9Mq+nCVIjMhw1GE3dX",
      "include_colab_link": true
    },
    "kernelspec": {
      "name": "python3",
      "display_name": "Python 3"
    },
    "language_info": {
      "name": "python"
    }
  },
  "cells": [
    {
      "cell_type": "markdown",
      "metadata": {
        "id": "view-in-github",
        "colab_type": "text"
      },
      "source": [
        "<a href=\"https://colab.research.google.com/github/isawich/2025_PBO_TI1C/blob/main/Menghitung_BMI.ipynb\" target=\"_parent\"><img src=\"https://colab.research.google.com/assets/colab-badge.svg\" alt=\"Open In Colab\"/></a>"
      ]
    },
    {
      "cell_type": "code",
      "source": [
        "def hitung_bmi(berat, tinggi):\n",
        "    tinggi_m = tinggi / 100\n",
        "    bmi = berat / (tinggi_m ** 2)\n",
        "\n",
        "    if bmi < 18.5:\n",
        "        kategori = \"Underweight\"\n",
        "    elif 18.5 <= bmi < 25:\n",
        "        kategori = \"Normal\"\n",
        "    elif 25 <= bmi < 30:\n",
        "        kategori = \"Overweight\"\n",
        "    else:\n",
        "        kategori = \"Obese\"\n",
        "\n",
        "    return bmi, kategori\n",
        "\n",
        "while True:\n",
        "    print(\"\\n\" + \"-\" * 40)\n",
        "\n",
        "    while True:\n",
        "        try:\n",
        "            berat = float(input(\"Masukkan berat badan (kg): \"))\n",
        "            if berat > 0:\n",
        "                break\n",
        "            print(\"Kesalahan: Berat harus lebih dari 0! Silakan coba lagi.\")\n",
        "        except ValueError:\n",
        "            print(\"Kesalahan: Input tidak valid! Harap masukkan angka.\")\n",
        "\n",
        "    while True:\n",
        "        try:\n",
        "            tinggi = float(input(\"Masukkan tinggi badan (cm): \"))\n",
        "            if tinggi > 0:\n",
        "                break\n",
        "            print(\"Kesalahan: Tinggi harus lebih dari 0! Silakan coba lagi.\")\n",
        "        except ValueError:\n",
        "            print(\"Kesalahan: Input tidak valid! Harap masukkan angka.\")\n",
        "\n",
        "    bmi, kategori = hitung_bmi(berat, tinggi)\n",
        "\n",
        "    print(\"\\n\" + \"-\" * 40)\n",
        "    print(f\"BMI Anda: {bmi:.2f}\")\n",
        "    print(f\"Kategori: {kategori}\")\n",
        "    print(\"-\" * 40 + \"\\n\")\n",
        "\n",
        "    while True:\n",
        "        ulang = input(\"Apakah ingin menghitung BMI lagi? (ya/tidak): \").strip().lower()\n",
        "        if ulang in [\"ya\", \"y\", \"tidak\", \"t\"]:\n",
        "            break\n",
        "        print(\"Kesalahan: Input tidak valid! Harap masukkan 'ya', 'y', 'tidak', atau 't'.\")\n",
        "\n",
        "    if ulang in [\"tidak\", \"t\"]:\n",
        "        print(\"\\n\" + \"-\" * 40)\n",
        "        print(\"Terima kasih telah menggunakan program BMI.\")\n",
        "        print(\"-\" * 40)\n",
        "        break\n"
      ],
      "metadata": {
        "colab": {
          "base_uri": "https://localhost:8080/"
        },
        "id": "fWIOwojhEoXX",
        "outputId": "2a09379e-cf3f-4a13-d884-13f6f4143dc7"
      },
      "execution_count": 7,
      "outputs": [
        {
          "output_type": "stream",
          "name": "stdout",
          "text": [
            "\n",
            "----------------------------------------\n",
            "Masukkan berat badan (kg): x\n",
            "Kesalahan: Input tidak valid! Harap masukkan angka.\n",
            "Masukkan berat badan (kg): 50\n",
            "Masukkan tinggi badan (cm): x\n",
            "Kesalahan: Input tidak valid! Harap masukkan angka.\n",
            "Masukkan tinggi badan (cm): 160\n",
            "\n",
            "----------------------------------------\n",
            "BMI Anda: 19.53\n",
            "Kategori: Normal\n",
            "----------------------------------------\n",
            "\n",
            "Apakah ingin menghitung BMI lagi? (ya/tidak): x\n",
            "Kesalahan: Input tidak valid! Harap masukkan 'ya', 'y', 'tidak', atau 't'.\n",
            "Apakah ingin menghitung BMI lagi? (ya/tidak): ya\n",
            "\n",
            "----------------------------------------\n",
            "Masukkan berat badan (kg): 50\n",
            "Masukkan tinggi badan (cm): 160\n",
            "\n",
            "----------------------------------------\n",
            "BMI Anda: 19.53\n",
            "Kategori: Normal\n",
            "----------------------------------------\n",
            "\n",
            "Apakah ingin menghitung BMI lagi? (ya/tidak): tidak\n",
            "\n",
            "----------------------------------------\n",
            "Terima kasih telah menggunakan program BMI.\n",
            "----------------------------------------\n"
          ]
        }
      ]
    }
  ]
}