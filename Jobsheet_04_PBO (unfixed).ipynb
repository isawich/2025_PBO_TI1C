{
  "nbformat": 4,
  "nbformat_minor": 0,
  "metadata": {
    "colab": {
      "provenance": [],
      "authorship_tag": "ABX9TyPFbHM4UIsl1lIaDma/0IXY",
      "include_colab_link": true
    },
    "kernelspec": {
      "name": "python3",
      "display_name": "Python 3"
    },
    "language_info": {
      "name": "python"
    }
  },
  "cells": [
    {
      "cell_type": "markdown",
      "metadata": {
        "id": "view-in-github",
        "colab_type": "text"
      },
      "source": [
        "<a href=\"https://colab.research.google.com/github/isawich/2025_PBO_TI1C/blob/main/Jobsheet_04_PBO%20(unfixed).ipynb\" target=\"_parent\"><img src=\"https://colab.research.google.com/assets/colab-badge.svg\" alt=\"Open In Colab\"/></a>"
      ]
    },
    {
      "cell_type": "markdown",
      "source": [
        "Praktikum 01: Inheritance Dasar"
      ],
      "metadata": {
        "id": "xME5FfsnfMRI"
      }
    },
    {
      "cell_type": "code",
      "source": [
        "class Kendaraan:\n",
        "  def __init__(sel)"
      ],
      "metadata": {
        "id": "0yhvFVzzg0L4"
      },
      "execution_count": null,
      "outputs": []
    }
  ]
}