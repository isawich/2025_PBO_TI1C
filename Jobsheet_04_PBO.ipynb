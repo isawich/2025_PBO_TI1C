{
  "nbformat": 4,
  "nbformat_minor": 0,
  "metadata": {
    "colab": {
      "provenance": [],
      "authorship_tag": "ABX9TyOxZqCR2jbPts4xCw+BWRhN",
      "include_colab_link": true
    },
    "kernelspec": {
      "name": "python3",
      "display_name": "Python 3"
    },
    "language_info": {
      "name": "python"
    }
  },
  "cells": [
    {
      "cell_type": "markdown",
      "metadata": {
        "id": "view-in-github",
        "colab_type": "text"
      },
      "source": [
        "<a href=\"https://colab.research.google.com/github/isawich/2025_PBO_TI1C/blob/main/Jobsheet_04_PBO.ipynb\" target=\"_parent\"><img src=\"https://colab.research.google.com/assets/colab-badge.svg\" alt=\"Open In Colab\"/></a>"
      ]
    },
    {
      "cell_type": "markdown",
      "source": [
        "Praktikum 01: Inheritance Dasar"
      ],
      "metadata": {
        "id": "6RsxOjeGi5aU"
      }
    },
    {
      "cell_type": "code",
      "execution_count": 3,
      "metadata": {
        "id": "hbFruEUOi00R",
        "outputId": "87599094-3ad0-4510-9669-b437465412b1",
        "colab": {
          "base_uri": "https://localhost:8080/"
        }
      },
      "outputs": [
        {
          "output_type": "stream",
          "name": "stdout",
          "text": [
            "Ini adalah mobil Tesla Model S berwarna Merah.\n",
            "Mesin kendaraan Tesla Model S dinyalakan.\n",
            "Merk mobil: Tesla Model S\n"
          ]
        }
      ],
      "source": [
        "class Kendaraan:\n",
        "  def __init__(self, merk):\n",
        "    self.merk = merk\n",
        "\n",
        "  def mulai_mesin(self):\n",
        "    print(f\"Mesin kendaraan {self.merk} dinyalakan.\")\n",
        "\n",
        "class Mobil(Kendaraan):\n",
        "  def __init__(self, merk, warna):\n",
        "    self.merk = merk\n",
        "    self.warna = warna\n",
        "\n",
        "  def info_mobil(self):\n",
        "    print(f\"Ini adalah mobil {self.merk} berwarna {self.warna}.\")\n",
        "\n",
        "if __name__ == \"__main__\":\n",
        "  mobil_tesla = Mobil(\"Tesla Model S\", \"Merah\")\n",
        "  mobil_tesla.info_mobil()\n",
        "  mobil_tesla.mulai_mesin()\n",
        "  print(f\"Merk mobil: {mobil_tesla.merk}\")"
      ]
    },
    {
      "cell_type": "markdown",
      "source": [
        "Praktikum 02: Menggunakna super() dalam konstruktor"
      ],
      "metadata": {
        "id": "g8GPBr0KkeiT"
      }
    },
    {
      "cell_type": "code",
      "source": [
        "class Person:\n",
        "  def __init__(self, nama, usia):\n",
        "    print(f\"(Memanggil __init__ Person untuk '{nama}')\")\n",
        "    self.nama = nama\n",
        "    self.usia = usia\n",
        "\n",
        "  def perkenalkan_diri(self):\n",
        "    print(f\"Halo, nama saya {self.nama}, usia saya {self.usia} tahun.\")\n",
        "\n",
        "class Student(Person):\n",
        "  def __init__(self, nama, usia, student_id, jurusan):\n",
        "    print(f\"(Memanggil __init__ Student untuk '{nama}')\")\n",
        "    super().__init__(nama, usia)\n",
        "    self.student_id = student_id\n",
        "    self.jurusan = jurusan\n",
        "    print(f\"(Inisialisasi atribut Student selesai untuk '{nama}')\")\n",
        "\n",
        "  def info_akademik(self):\n",
        "    print(f\"ID Mahasiswa: {self.student_id}\")\n",
        "    print(f\"Jurusan: {self.jurusan}\")\n",
        "\n",
        "  def perkenalkan_diri(self):\n",
        "    super().perkenalkan_diri()\n",
        "    print(f\"Saya adalah mahasiswa dengan ID {self.student_id}, jurusan {self.jurusan}.\")\n",
        "\n",
        "if __name__ == \"__main__\":\n",
        "  dosen = Person(\"Pak Anton\", 45)\n",
        "  print(\"-\" * 20)\n",
        "  dosen.perkenalkan_diri()\n",
        "  print(\"\\n\" + \"=\" * 30 + \"\\n\")\n",
        "\n",
        "  mahasiswa = Student(\"Dewi\", 20, \"MHS001\", \"Teknik Komputer\")\n",
        "  print(\"-\" * 20)\n",
        "  mahasiswa.info_akademik()\n",
        "  print(\"-\" * 20)\n",
        "  mahasiswa.info_akademik()\n",
        "\n",
        "  print(f\"\\nUsia mahasiswa {mahasiswa.nama}: {mahasiswa.usia}\")"
      ],
      "metadata": {
        "id": "lMGW-PZNkjXz",
        "outputId": "0e29e6f0-486a-4665-faa4-ea1d7029c3e2",
        "colab": {
          "base_uri": "https://localhost:8080/"
        }
      },
      "execution_count": 4,
      "outputs": [
        {
          "output_type": "stream",
          "name": "stdout",
          "text": [
            "(Memanggil __init__ Person untuk 'Pak Anton')\n",
            "--------------------\n",
            "Halo, nama saya Pak Anton, usia saya 45 tahun.\n",
            "\n",
            "==============================\n",
            "\n",
            "(Memanggil __init__ Student untuk 'Dewi')\n",
            "(Memanggil __init__ Person untuk 'Dewi')\n",
            "(Inisialisasi atribut Student selesai untuk 'Dewi')\n",
            "--------------------\n",
            "ID Mahasiswa: MHS001\n",
            "Jurusan: Teknik Komputer\n",
            "--------------------\n",
            "ID Mahasiswa: MHS001\n",
            "Jurusan: Teknik Komputer\n",
            "\n",
            "Usia mahasiswa Dewi: 20\n"
          ]
        }
      ]
    },
    {
      "cell_type": "markdown",
      "source": [
        "Praktikum 03:Method Overriding dan super()"
      ],
      "metadata": {
        "id": "0w0XjvjvnLCd"
      }
    },
    {
      "cell_type": "code",
      "source": [
        "class Hewan:\n",
        "  def __init__(self, nama):\n",
        "    self.nama = nama\n",
        "\n",
        "  def bersuara(self):\n",
        "    print(f\"{self.nama} mengeluarkan suara generik.\")\n",
        "\n",
        "  def tampilkan_info(self):\n",
        "    print(f\"Ini adalah hewan bernama {self.nama}.\")\n",
        "\n",
        "class Kucing(Hewan):\n",
        "  def __init__(self, nama, ras):\n",
        "    super().__init__(nama)\n",
        "    self.ras = ras\n",
        "\n",
        "  def bersuara(self):\n",
        "    print(f\"{self.nama} (Kucing) mengeong: Meow!\")\n",
        "\n",
        "  def tampilkan_info(self):\n",
        "    super().tampilkan_info()\n",
        "    print(f\"Ini adalah kucing ras {self.ras}.\")\n",
        "\n",
        "if __name__ == \"__main__\":\n",
        "  hewan_umum = Hewan(\"Makhluk\")\n",
        "  kucing_persia = Kucing(\"Puspus\", \"Persia\")\n",
        "\n",
        "  print(\"Info Hewan Umum:\")\n",
        "  hewan_umum.tampilkan_info()\n",
        "  hewan_umum.bersuara()\n",
        "  print(\"-\" * 20)\n",
        "\n",
        "  print(\"Info Kucing Persia:\")\n",
        "  kucing_persia.tampilkan_info()\n",
        "  kucing_persia.bersuara()"
      ],
      "metadata": {
        "id": "uqakIi2EnRdp",
        "outputId": "e3aa0bcd-9a26-4622-e2f5-5a166a003822",
        "colab": {
          "base_uri": "https://localhost:8080/"
        }
      },
      "execution_count": 10,
      "outputs": [
        {
          "output_type": "stream",
          "name": "stdout",
          "text": [
            "Info Hewan Umum:\n",
            "Ini adalah hewan bernama Makhluk.\n",
            "Makhluk mengeluarkan suara generik.\n",
            "--------------------\n",
            "Info Kucing Persia:\n",
            "Ini adalah hewan bernama Puspus.\n",
            "Ini adalah kucing ras Persia.\n",
            "Puspus (Kucing) mengeong: Meow!\n"
          ]
        }
      ]
    },
    {
      "cell_type": "markdown",
      "source": [
        "Praktikum 04: Multi-level Inheritance (Pewarisna Bertingkat)"
      ],
      "metadata": {
        "id": "Ag2CcqI6ovwE"
      }
    },
    {
      "cell_type": "code",
      "source": [
        "class Organisme:\n",
        "  def __init__(self, nama):\n",
        "    self.nama = nama\n",
        "    print(f\"Organisme '{self.nama}' diciptakan.\")\n",
        "\n",
        "  def bernapas(self):\n",
        "    print(f\"{self.nama} sedang bernapas.\")\n",
        "\n",
        "class Hewan(Organisme):\n",
        "  def __init__(self, nama, jenis_makanan):\n",
        "    super().__init__(nama)\n",
        "    self.jenis_makanan = jenis_makanan\n",
        "    print(f\"Hewan '{self.nama}' adlaah {self.jenis_makanan}.\")\n",
        "\n",
        "  def bergerak(self):\n",
        "    print(f\"{self.nama} sedang bergerak.\")\n",
        "\n",
        "class Mamalia(Hewan):\n",
        "  def __init__(self, nama, jenis_makanan, jumlah_kaki):\n",
        "    super().__init__(nama, jenis_makanan)\n",
        "    self.jumlah_kaki = jumlah_kaki\n",
        "    print(f\"Mamalia '{self.nama}' memilii {self.jumlah_kaki} kaki.\")\n",
        "\n",
        "  def menyusui(self):\n",
        "    print(f\"{self.nama} sedang menyusui.\")\n",
        "\n",
        "if __name__ == \"__main__\":\n",
        "  kucing = Mamalia(\"Kucing Persia\", \"Karnivora\", 4)\n",
        "  print(\"-\" * 20)\n",
        "\n",
        "  kucing.menyusui()\n",
        "  kucing.bergerak()\n",
        "  print(f\"Jenis makanan: {kucing.jenis_makanan}\")\n",
        "  kucing.bernapas()\n",
        "  print(f\"Nama organisme: {kucing.nama}\")\n",
        "\n"
      ],
      "metadata": {
        "id": "78vLq2VQo4Fl",
        "outputId": "8d55d58d-3b21-45a5-f7e9-0fbc60fbe4b1",
        "colab": {
          "base_uri": "https://localhost:8080/"
        }
      },
      "execution_count": 11,
      "outputs": [
        {
          "output_type": "stream",
          "name": "stdout",
          "text": [
            "Organisme 'Kucing Persia' diciptakan.\n",
            "Hewan 'Kucing Persia' adlaah Karnivora.\n",
            "Mamalia 'Kucing Persia' memilii 4 kaki.\n",
            "--------------------\n",
            "Kucing Persia sedang menyusui.\n",
            "Kucing Persia sedang bergerak.\n",
            "Jenis makanan: Karnivora\n",
            "Kucing Persia sedang bernapas.\n",
            "Nama organisme: Kucing Persia\n"
          ]
        }
      ]
    },
    {
      "cell_type": "markdown",
      "source": [
        "Praktikum 05: Hierarchial Inheritance"
      ],
      "metadata": {
        "id": "0LfvpO6QrCOd"
      }
    },
    {
      "cell_type": "code",
      "source": [
        "!apt-get install -y locales\n",
        "!locale-gen id_ID.UTF-8\n",
        "!update-locale"
      ],
      "metadata": {
        "id": "yJTZmF1JrHHS",
        "outputId": "1f3922bb-ea73-4400-bd9b-3dab1e9c2abe",
        "colab": {
          "base_uri": "https://localhost:8080/"
        }
      },
      "execution_count": 12,
      "outputs": [
        {
          "output_type": "stream",
          "name": "stdout",
          "text": [
            "Reading package lists... Done\n",
            "Building dependency tree... Done\n",
            "Reading state information... Done\n",
            "locales is already the newest version (2.35-0ubuntu3.9).\n",
            "0 upgraded, 0 newly installed, 0 to remove and 34 not upgraded.\n",
            "Generating locales (this might take a while)...\n",
            "  id_ID.UTF-8... done\n",
            "Generation complete.\n"
          ]
        }
      ]
    },
    {
      "cell_type": "code",
      "source": [
        "import locale\n",
        "\n",
        "try:\n",
        "  locale.setlocale(locale.LC_ALL, 'id_ID.UTF-8')\n",
        "except locale.Error:\n",
        "  print(\"Locale id_ID.UTF-8 tidak tersedia, menggunakan locale default.\")\n",
        "\n",
        "def format_rupiah(angka):\n",
        "  return locale.currency(angka, grouping=True, symbol='Rp ')\n",
        "\n",
        "class Pegawai:\n",
        "  def __init__(self, nama, id_pegawai, gaji_pokok):\n",
        "    self.nama = nama\n",
        "    self.id_pegawai = id_pegawai\n",
        "    self.gaji_pokok = gaji_pokok\n",
        "\n",
        "  def hitung_gaji(self):\n",
        "    return self.gaji_pokok\n",
        "\n",
        "  def tampilkan_info(self):\n",
        "    print(f\"ID: {self.id_pegawai}, Nama: {self.nama}\")\n",
        "    print(f\"Gaji Pokok: {format_rupiah(self.gaji_pokok)}\")\n",
        "\n",
        "class Manager(Pegawai):\n",
        "    def __init__(self, nama, id_pegawai, gaji_pokok, tunjangan_jabatan):\n",
        "      super().__init__(nama, id_pegawai, gaji_pokok)\n",
        "      self.tunjangan_jabatan = tunjangan_jabatan\n",
        "\n",
        "    def hitung_gaji(self):\n",
        "      gaji_total = super().hitung_gaji() + self.tunjangan_jabatan\n",
        "      return gaji_total\n",
        "\n",
        "    def tampilkan_info(self):\n",
        "      print(\"--- Info Manager ---\")\n",
        "      super(). tampilkan_info()\n",
        "      print(f\"Tunjangan Jabatan: {format_rupiah(self.tunjangan_jabatan)}\")\n",
        "      print(f\"Total Gaji: {format_rupiah(self.hitung_gaji())}\")\n",
        "\n",
        "class StafTeknis(Pegawai):\n",
        "    def __init__(self, nama, id_pegawai, gaji_pokok, keahlian, bonus_keahlian):\n",
        "      super().__init__(nama, id_pegawai, gaji_pokok)\n",
        "      self.keahlian = keahlian\n",
        "      self.bonus_keahlian =bonus_keahlian\n",
        "\n",
        "    def hitung_gaji(self):\n",
        "      gaji_total = super().hitung_gaji() + self.bonus_keahlian\n",
        "      return gaji_total\n",
        "\n",
        "      def tampilkan_info(self):\n",
        "        [rint(\"--- Info STaf Teknis ---\")]\n",
        "        super().tampilkan_info()\n",
        "        print(f\"Keahlian: {self.keahlian}\")\n",
        "        print(f\"Bonus_keahlian: {format_rupiah(self.bonus_keahlian)}\")\n",
        "        print(f\"Total Gaji: {format_rupiah(self.hitung_gaji())}\")\n",
        "\n",
        "if __name__ == \"__main__\":\n",
        "  manager1 = Manager(\"Budi Santoso\", \"M001\", 10000000, 5000000)\n",
        "  staf1 = StafTeknis(\"Citra Lestari\", \"S001\", 7000000, \"Python programmig\", 1500000)\n",
        "  pegawai_baru = Pegawai(\"Rian\", \"P005\", 5000000)\n",
        "\n",
        "  print(\"Menampilkan Informasi Pegawai:\")\n",
        "  manager1.tampilkan_info()\n",
        "  print(\"-\" * 30)\n",
        "  staf1.tampilkan_info()\n",
        "  print(\"-\" * 30)\n",
        "\n",
        "  print(\"--- Info Pegawai Baru ---\")\n",
        "  pegawai_baru.tampilkan_info()\n",
        "  print(f\"Total Gaji: {format_rupiah(pegawai_baru.hitung_gaji())}\")\n",
        "  print(\"-\" * 30)"
      ],
      "metadata": {
        "id": "-6BtLn4PsGe0",
        "outputId": "e5faf71e-8989-4cd0-c4ed-b87a3d79f6eb",
        "colab": {
          "base_uri": "https://localhost:8080/"
        }
      },
      "execution_count": 13,
      "outputs": [
        {
          "output_type": "stream",
          "name": "stdout",
          "text": [
            "Menampilkan Informasi Pegawai:\n",
            "--- Info Manager ---\n",
            "ID: M001, Nama: Budi Santoso\n",
            "Gaji Pokok: Rp10.000.000,00\n",
            "Tunjangan Jabatan: Rp5.000.000,00\n",
            "Total Gaji: Rp15.000.000,00\n",
            "------------------------------\n",
            "ID: S001, Nama: Citra Lestari\n",
            "Gaji Pokok: Rp7.000.000,00\n",
            "------------------------------\n",
            "--- Info Pegawai Baru ---\n",
            "ID: P005, Nama: Rian\n",
            "Gaji Pokok: Rp5.000.000,00\n",
            "Total Gaji: Rp5.000.000,00\n",
            "------------------------------\n"
          ]
        }
      ]
    },
    {
      "cell_type": "markdown",
      "source": [
        "Praktikum 06: Memeriksa Tipe Instance dengan instance()"
      ],
      "metadata": {
        "id": "h5zUr3WHyQK6"
      }
    },
    {
      "cell_type": "code",
      "source": [
        "class BentukGeometri:\n",
        "  def __init__(self, nama_bentuk):\n",
        "    self.nama_bentuk = nama_bentuk\n",
        "  def tampilkan_nama(self):\n",
        "    print(f\"Ini adalah bentuk: {self.nama_bentuk}\")\n",
        "  def hitung_luas(self):\n",
        "    print(f\"Luas {self.nama_bentuk} tidak dapat dihitung (generik).\")\n",
        "\n",
        "class PersegiPanjang(BentukGeometri):\n",
        "  def __init__(self, panjang, lebar):\n",
        "    super().__init__(\"Persegi Panjang\")\n",
        "    self.panjang = panjang\n",
        "    self.lebar = lebar\n",
        "  def hitung_luas(self):\n",
        "    luas = self.panjang * self.lebar\n",
        "    print(f\"Luas {self.nama_bentuk}: {luas}\")\n",
        "\n",
        "  class Segitiga(BentukGeometri):\n",
        "    def __init__(self, alas, tinggi):\n",
        "      super().__init__(\"Segitiga\")\n",
        "      self.alas = alas\n",
        "      self.tinggi = tinggi\n",
        "    def hitung_luas(self):\n",
        "      luas = 0.5 * self.alas * self.tinggi\n",
        "      print(f\"Luas {self.nama_bentuk}: {luas}\")\n",
        "\n",
        "  def proses_bentuk(bentuk):\n",
        "    print(f\"\\nMemproses objek: {type(bentuk)}\")\n",
        "\n",
        "    if isinstance(bentuk, BentukGeometri):\n",
        "      bentuk.tampilkan_nama()\n",
        "      print(\"Objek ini adalah instance dari BentukGeometri (atau turunanannya).\")\n",
        "\n",
        "      if isinstance(bentuk, PersegiPanjang):\n",
        "        print(\"-> Objek ini juga instance dari PersegiPanjang.\")\n",
        "      elif isinstance(bentuk, Segitiga):\n",
        "        print(\"-> Objek ini juga instance dari Segitiga.\")\n",
        "    else:\n",
        "      print(\"Objek ini BKAN instance dari BentukGeometri.\")\n",
        "\n",
        "    if isinstance(bentuk, str):\n",
        "      print(\"Objek ini adlaah string.\")\n",
        "\n",
        "  if __name__ == \"__main__\":\n",
        "    pp = PersegiPanjang(4, 3)\n",
        "    seg = Segitiga(5, 2)\n",
        "    bg = BentukGeometri(\"Lingkaran\")\n",
        "    teks = \"ini string\"\n",
        "\n",
        "    daftar_objek = [pp, seg, bg, teks]\n",
        "\n",
        "    for obj in daftar_objek:\n",
        "      proses_bentuk(obj)\n",
        "\n"
      ],
      "metadata": {
        "id": "ACQq5JBeyWGT",
        "outputId": "8053ddbc-496a-43e1-fdec-ffa8c89e26f3",
        "colab": {
          "base_uri": "https://localhost:8080/"
        }
      },
      "execution_count": 16,
      "outputs": [
        {
          "output_type": "stream",
          "name": "stdout",
          "text": [
            "\n",
            "Memproses objek: <class '__main__.PersegiPanjang'>\n",
            "Objek ini BKAN instance dari BentukGeometri.\n",
            "\n",
            "Memproses objek: <class '__main__.PersegiPanjang.Segitiga'>\n",
            "Ini adalah bentuk: Segitiga\n",
            "Objek ini adalah instance dari BentukGeometri (atau turunanannya).\n",
            "\n",
            "Memproses objek: <class '__main__.BentukGeometri'>\n",
            "Ini adalah bentuk: Lingkaran\n",
            "Objek ini adalah instance dari BentukGeometri (atau turunanannya).\n",
            "\n",
            "Memproses objek: <class 'str'>\n",
            "Objek ini BKAN instance dari BentukGeometri.\n",
            "Objek ini adlaah string.\n"
          ]
        }
      ]
    },
    {
      "cell_type": "markdown",
      "source": [
        "TUGAS"
      ],
      "metadata": {
        "id": "srUQy52E5q2Q"
      }
    },
    {
      "cell_type": "code",
      "source": [
        "class Mahasiswa:\n",
        "  def __init__(self, nama, NIM, IPK):\n",
        "    self.nama = nama\n",
        "    self.NIM = NIM\n",
        "    self.IPK = IPK\n",
        "\n",
        "  def tampilkan_info(self):\n",
        "    print(f\"Nama: {self.nama}\")\n",
        "    print(f\"NIM: {self.NIM}\")\n",
        "    print(f\"IPK: {self.IPK}\")\n",
        "\n",
        "  def predikat_IPK(self):\n",
        "    if self.IPK >= 3.5:\n",
        "      print(\"Predikat: Dengan Pujian\")\n",
        "    elif self.IPK >= 3.0:\n",
        "      print(\"Predikat: Sangat Memuaskan\")\n",
        "    elif self.IPK >= 2.5:\n",
        "      print(\"Predikat: Memuaskan\")\n",
        "    else:\n",
        "      print(\"Predikat: Cukup\")\n",
        "\n",
        "  class MahasiswaSarjana(Mahasiswa):\n",
        "    def __init__(self, nama, NIM, IPK, semester, sks_lulus):\n",
        "      super().__init__(nama, NIM, IPK)\n",
        "      self.semester = semester\n",
        "      self.sks_lulus = sks_lulus\n",
        "\n",
        "    def tampilkan_info(self):\n",
        "      print(\"--- Info Mahasiswa Sarjana ---\")\n",
        "      super().tampilkan_info()\n",
        "      print(f\"Semester: {self.semester}\")\n",
        "      print(f\"SKS Lulus: {self.sks_lulus}\")\n",
        "\n",
        "class MahasiswaMagister(Mahasiswa):\n",
        "  def __init__(self, nama, NIM, IPK, judul_tesis, nama_pembimbing):\n",
        "    super().__init__(nama,NIM, IPK)\n",
        "    self.judul_tesis = judul_tesis\n",
        "    self.nama_pembimbing = nama_pembimbing\n",
        "\n",
        "  def tampilkan_info(self):\n",
        "    print(\"--- Info Mahasiswa Magister ---\")\n",
        "    super().tampilkan_info()\n",
        "    print(f\"Judul Tesis: {self.judul_tesis}\")\n",
        "    print(f\"Nama pembimbing: {self.nama_pembimbing}\")\n",
        "\n",
        "if __name__ == \"__main__\":\n",
        "  mhs1 = MahasiswaSarjana(\"Rasha Sarasvati\", \"87654321\", 3.8, 8, 140)\n",
        "  mhs1.tampilkan_info()\n",
        "  mhs1.predikat_IPK()\n",
        "  print()\n",
        "  mhs2 = MahasiswaMagister(\"Bianca Mayangsari\", \"12345678\", 3.8, \"Pengaruh Teknologi Informasi terhadap Produktivitas Kerja\", \"Dr. Ahmad Fauzi\")\n",
        "  mhs2.tampilkan_info()\n",
        "  mhs2.predikat_IPK()\n",
        "\n",
        "\n"
      ],
      "metadata": {
        "id": "CSXTNZ9n5tBn",
        "outputId": "c766c0a3-8a40-450e-cb25-28372c9329a7",
        "colab": {
          "base_uri": "https://localhost:8080/"
        }
      },
      "execution_count": 30,
      "outputs": [
        {
          "output_type": "stream",
          "name": "stdout",
          "text": [
            "--- Info Mahasiswa Sarjana ---\n",
            "Nama: Jane Smith\n",
            "NIM: 87654321\n",
            "IPK: 3.2\n",
            "Semester: 8\n",
            "SKS Lulus: 140\n",
            "Predikat: Sangat Memuaskan\n",
            "\n",
            "--- Info Mahasiswa Magister ---\n",
            "Nama: John Doe\n",
            "NIM: 12345678\n",
            "IPK: 3.8\n",
            "Judul Tesis: Pengaruh Teknologi Informasi terhadap Produktivitas Kerja\n",
            "Nama pembimbing: Dr. Ahmad Fauzi\n",
            "Predikat: Dengan Pujian\n"
          ]
        }
      ]
    }
  ]
}