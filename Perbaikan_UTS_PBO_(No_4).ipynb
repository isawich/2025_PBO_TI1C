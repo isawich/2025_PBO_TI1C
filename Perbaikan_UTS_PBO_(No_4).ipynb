{
  "nbformat": 4,
  "nbformat_minor": 0,
  "metadata": {
    "colab": {
      "provenance": [],
      "authorship_tag": "ABX9TyMB7ynl7mZxXk65xfi0/8Pq",
      "include_colab_link": true
    },
    "kernelspec": {
      "name": "python3",
      "display_name": "Python 3"
    },
    "language_info": {
      "name": "python"
    }
  },
  "cells": [
    {
      "cell_type": "markdown",
      "metadata": {
        "id": "view-in-github",
        "colab_type": "text"
      },
      "source": [
        "<a href=\"https://colab.research.google.com/github/isawich/2025_PBO_TI1C/blob/main/Perbaikan_UTS_PBO_(No_4).ipynb\" target=\"_parent\"><img src=\"https://colab.research.google.com/assets/colab-badge.svg\" alt=\"Open In Colab\"/></a>"
      ]
    },
    {
      "cell_type": "code",
      "execution_count": null,
      "metadata": {
        "colab": {
          "base_uri": "https://localhost:8080/"
        },
        "id": "qjHTEdJ4Vsi1",
        "outputId": "695303e1-da2a-494e-942c-7b7abe6082fb"
      },
      "outputs": [
        {
          "output_type": "stream",
          "name": "stdout",
          "text": [
            "\n",
            "--- INFO AWAL ---\n",
            "Merk: LG, Model: UHD-42\n",
            "Ukuran Layar: 42\"\n",
            "\n",
            "Merk: Sony, Model: XDR-65\n",
            "Frekuensi: 90.5 MHz\n",
            "\n",
            "--- AKSI ---\n",
            "LG UHD-42 dinyalakan.\n",
            "Channel diganti ke 12\n",
            "LG UHD-42 dimatikan.\n",
            "Gagal: Televisi belum dinyalakan.\n",
            "\n",
            "Gagal: Radio belum dinyalakan.\n",
            "Sony XDR-65 dinyalakan.\n",
            "Frekuensi diubah ke 99.9 MHz\n",
            "Sony XDR-65 dimatikan.\n",
            "\n",
            "--- INFO AKHIR ---\n",
            "Merk: LG, Model: UHD-42\n",
            "Ukuran Layar: 42\"\n",
            "\n",
            "Merk: Sony, Model: XDR-65\n",
            "Frekuensi: 99.9 MHz\n"
          ]
        }
      ],
      "source": [
        "class AlatElektronik:\n",
        "    def __init__(self, merk, model):\n",
        "        self.merk = merk\n",
        "        self.model = model\n",
        "        self._status_daya = False\n",
        "\n",
        "    def nyalakan(self):\n",
        "        if not self._status_daya:\n",
        "            self._status_daya = True\n",
        "            print(f\"{self.merk} {self.model} dinyalakan.\")\n",
        "        else:\n",
        "            print(f\"{self.merk} {self.model} sudah dalam keadaan menyala.\")\n",
        "\n",
        "    def matikan(self):\n",
        "        if self._status_daya:\n",
        "            self._status_daya = False\n",
        "            print(f\"{self.merk} {self.model} dimatikan.\")\n",
        "        else:\n",
        "            print(f\"{self.merk} {self.model} sudah dalam keadaan mati.\")\n",
        "\n",
        "    def get_info(self):\n",
        "        print(f\"Merk: {self.merk}, Model: {self.model}\")\n",
        "\n",
        "\n",
        "class Televisi(AlatElektronik):\n",
        "    def __init__(self, merk, model, ukuran_layar):\n",
        "        super().__init__(merk, model)\n",
        "        self.ukuran_layar = ukuran_layar\n",
        "\n",
        "    def get_info(self):\n",
        "        super().get_info()\n",
        "        print(f\"Ukuran Layar: {self.ukuran_layar}\\\"\")\n",
        "\n",
        "    def ganti_channel(self, channel):\n",
        "        if self._status_daya:\n",
        "            print(f\"Channel diganti ke {channel}\")\n",
        "        else:\n",
        "            print(\"Gagal: Televisi belum dinyalakan.\")\n",
        "\n",
        "\n",
        "class Radio(AlatElektronik):\n",
        "    def __init__(self, merk, model, frekuensi):\n",
        "        super().__init__(merk, model)\n",
        "        self.frekuensi = frekuensi\n",
        "\n",
        "    def get_info(self):\n",
        "        super().get_info()\n",
        "        print(f\"Frekuensi: {self.frekuensi} MHz\")\n",
        "\n",
        "    def set_frekuensi(self, frekuensi_baru):\n",
        "        if self._status_daya:\n",
        "            self.frekuensi = frekuensi_baru\n",
        "            print(f\"Frekuensi diubah ke {self.frekuensi} MHz\")\n",
        "        else:\n",
        "            print(\"Gagal: Radio belum dinyalakan.\")\n",
        "\n",
        "\n",
        "# Main program disederhanakan\n",
        "if __name__ == \"__main__\":\n",
        "    tv = Televisi(\"LG\", \"UHD-42\", 42)\n",
        "    radio = Radio(\"Sony\", \"XDR-65\", 90.5)\n",
        "\n",
        "    print(\"\\n--- INFO AWAL ---\")\n",
        "    tv.get_info()\n",
        "    print()\n",
        "    radio.get_info()\n",
        "\n",
        "    print(\"\\n--- AKSI ---\")\n",
        "    tv.nyalakan()\n",
        "    tv.ganti_channel(12)\n",
        "    tv.matikan()\n",
        "    tv.ganti_channel(8)\n",
        "    print()\n",
        "    radio.set_frekuensi(95.1)\n",
        "    radio.nyalakan()\n",
        "    radio.set_frekuensi(99.9)\n",
        "    radio.matikan()\n",
        "\n",
        "    print(\"\\n--- INFO AKHIR ---\")\n",
        "    tv.get_info()\n",
        "    print()\n",
        "    radio.get_info()\n"
      ]
    }
  ]
}