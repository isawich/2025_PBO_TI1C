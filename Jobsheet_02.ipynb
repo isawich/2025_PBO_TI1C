{
  "nbformat": 4,
  "nbformat_minor": 0,
  "metadata": {
    "colab": {
      "provenance": [],
      "authorship_tag": "ABX9TyO/VMWScgk5w6kGhqIjVpug",
      "include_colab_link": true
    },
    "kernelspec": {
      "name": "python3",
      "display_name": "Python 3"
    },
    "language_info": {
      "name": "python"
    }
  },
  "cells": [
    {
      "cell_type": "markdown",
      "metadata": {
        "id": "view-in-github",
        "colab_type": "text"
      },
      "source": [
        "<a href=\"https://colab.research.google.com/github/isawich/2025_PBO_TI1C/blob/main/Jobsheet_02.ipynb\" target=\"_parent\"><img src=\"https://colab.research.google.com/assets/colab-badge.svg\" alt=\"Open In Colab\"/></a>"
      ]
    },
    {
      "cell_type": "markdown",
      "source": [
        "Praktkum 1: Membuat dan Menggunakan Fungsi"
      ],
      "metadata": {
        "id": "rHkLHd5jMsu8"
      }
    },
    {
      "cell_type": "code",
      "execution_count": null,
      "metadata": {
        "colab": {
          "base_uri": "https://localhost:8080/"
        },
        "id": "VzNQBqz8MKWH",
        "outputId": "d1ab9530-c346-4f5c-b794-74b2f3430778"
      },
      "outputs": [
        {
          "output_type": "stream",
          "name": "stdout",
          "text": [
            "Ini adalah contoh fungsi Built-in\n"
          ]
        }
      ],
      "source": [
        "# Fungsi Built-in\n",
        "print(\"Ini adalah contoh fungsi Built-in\")"
      ]
    },
    {
      "cell_type": "code",
      "source": [
        "# Fungsi len()\n",
        "kata = \"Pemrograman\"\n",
        "panjang_kata = len(kata)\n",
        "print(\"Panjang kata:\", panjang_kata)"
      ],
      "metadata": {
        "colab": {
          "base_uri": "https://localhost:8080/"
        },
        "id": "CR7XOBThNC7f",
        "outputId": "008b0623-99ca-4f49-f30f-248f4490c390"
      },
      "execution_count": null,
      "outputs": [
        {
          "output_type": "stream",
          "name": "stdout",
          "text": [
            "Panjang kata: 11\n"
          ]
        }
      ]
    },
    {
      "cell_type": "code",
      "source": [
        "# Fungsi max()\n",
        "angka = [10, 5, 30, 40, 25]\n",
        "nilai_max = max(angka)\n",
        "print(f\"Nilai maksimum dalam daftar {angka} adalah: {nilai_max}\")"
      ],
      "metadata": {
        "colab": {
          "base_uri": "https://localhost:8080/"
        },
        "id": "cO1DNm96NlWK",
        "outputId": "fd43ed64-3369-489f-9a0c-71642c2fb049"
      },
      "execution_count": null,
      "outputs": [
        {
          "output_type": "stream",
          "name": "stdout",
          "text": [
            "Nilai maksimum dalam daftar [10, 5, 30, 40, 25] adalah: 40\n"
          ]
        }
      ]
    },
    {
      "cell_type": "code",
      "source": [
        "#Fungsi User-Defined\n",
        "# 1 Parameter\n",
        "def cetak_kuadrat(angka):\n",
        "  print(f\"Kuadrat dari {angka} adalah: {angka ** 2}\")\n",
        "\n",
        "# Pemanggilan dengan 1 parameter\n",
        "cetak_kuadrat(5)"
      ],
      "metadata": {
        "colab": {
          "base_uri": "https://localhost:8080/"
        },
        "id": "8bB1QCctOkP5",
        "outputId": "fc69759b-f48d-46fc-ab08-66a1dc9c2ae0"
      },
      "execution_count": null,
      "outputs": [
        {
          "output_type": "stream",
          "name": "stdout",
          "text": [
            "Kuadrat dari 5 adalah: 25\n"
          ]
        }
      ]
    },
    {
      "cell_type": "code",
      "source": [
        "# Beberapa Parameter\n",
        "def hitung_luas_persegi_panjang(panjang, lebar):\n",
        "  return panjang * lebar\n",
        "\n",
        "# Pemanggilan dengan beberapa parameter\n",
        "luas = hitung_luas_persegi_panjang(10, 5)\n",
        "print(f\"Luas persegi panjang: {luas}\")"
      ],
      "metadata": {
        "colab": {
          "base_uri": "https://localhost:8080/"
        },
        "id": "om9tTEqVPb2s",
        "outputId": "8eb48681-d3af-45e4-d52e-cd21496f0d68"
      },
      "execution_count": null,
      "outputs": [
        {
          "output_type": "stream",
          "name": "stdout",
          "text": [
            "Luas persegi panjang: 50\n"
          ]
        }
      ]
    },
    {
      "cell_type": "code",
      "source": [
        "# Beberapa Tipe Parameter\n",
        "def info_mahasiswa(nama, umur, ipk):\n",
        "  print(f\"Nama: {nama}, Umur: {umur}, IPK: {ipk}\")\n",
        "\n",
        "# Pemanggilan dengan beberapa tipe parameter\n",
        "info_mahasiswa(\"Budi\", 22, 3.8)"
      ],
      "metadata": {
        "colab": {
          "base_uri": "https://localhost:8080/"
        },
        "id": "D_Dw4TAVP4o4",
        "outputId": "13634977-4b8a-4e81-8d05-a0d38e00ff83"
      },
      "execution_count": null,
      "outputs": [
        {
          "output_type": "stream",
          "name": "stdout",
          "text": [
            "Nama: Budi, Umur: 22, IPK: 3.8\n"
          ]
        }
      ]
    },
    {
      "cell_type": "code",
      "source": [
        "# Fungsi Tanpa Return Value\n",
        "def sapa_pengguna(nama):\n",
        "  print(f\"Halo, {nama}! Selamat Datang di dunia Python.\")\n",
        "\n",
        "# Pemanggilan fungsi tanpa return value\n",
        "sapa_pengguna(\"Andi\")"
      ],
      "metadata": {
        "colab": {
          "base_uri": "https://localhost:8080/"
        },
        "id": "fKFr87YwQjx3",
        "outputId": "a615eccd-fecc-4ace-e00b-c934911b39fe"
      },
      "execution_count": null,
      "outputs": [
        {
          "output_type": "stream",
          "name": "stdout",
          "text": [
            "Halo, Andi! Selamat Datang di dunia Python.\n"
          ]
        }
      ]
    },
    {
      "cell_type": "code",
      "source": [
        "# Fungsi Dengan Return Value\n",
        "def hitung_keliling_persegi(sisi):\n",
        "  return 4 * sisi\n",
        "\n",
        "# Pemanggilan fungsi dengan return value\n",
        "keliling = hitung_keliling_persegi(5)\n",
        "print(f\"Keliling persegi dengan 5 sisi adalah: {keliling}\")"
      ],
      "metadata": {
        "colab": {
          "base_uri": "https://localhost:8080/"
        },
        "id": "N1HrGKjQRNul",
        "outputId": "ffb54089-3346-4873-b7f2-ffd15c8b8e5f"
      },
      "execution_count": null,
      "outputs": [
        {
          "output_type": "stream",
          "name": "stdout",
          "text": [
            "Keliling persegi dengan 5 sisi adalah: 20\n"
          ]
        }
      ]
    },
    {
      "cell_type": "markdown",
      "source": [
        "Praktikum 2: Modularisasi Kode dengan Fungsi"
      ],
      "metadata": {
        "id": "q13lmz2YSKI9"
      }
    },
    {
      "cell_type": "code",
      "source": [
        "# File utama main.py yang mengimpor modul geometri.py\n",
        "\n",
        "import geometry\n",
        "\n",
        "def main():\n",
        "  luas_persegi = geometry.hitung_luas_persegi(5)\n",
        "  print(f\"Luas persegi dengan sisi 5 adalah: {luas_persegi}\")\n",
        "  luas_persegi_panjang = geometry.hitung_luas_persegi_panjang(10, 5)\n",
        "  print(f\"Luas persegi panjang dengan panjang 10 dan lebar 5 adalah: {luas_persegi_panjang}\")\n",
        "  luas_lingkaran = geometry.hitung_luas_lingkaran(7)\n",
        "  print(f\"Luas lingkaran dengan jari-jari 7 adalah: {luas_lingkaran}\")\n",
        "\n",
        "if __name__ == \"__main__\":\n",
        "  main()\n"
      ],
      "metadata": {
        "colab": {
          "base_uri": "https://localhost:8080/"
        },
        "id": "6VWVeN_bSIy4",
        "outputId": "88d56db2-d8d7-4df8-ab24-93ec59cff912"
      },
      "execution_count": null,
      "outputs": [
        {
          "output_type": "stream",
          "name": "stdout",
          "text": [
            "Luas persegi dengan sisi 5 adalah: 25\n",
            "Luas persegi panjang dengan panjang 10 dan lebar 5 adalah: 50\n",
            "Luas lingkaran dengan jari-jari 7 adalah: 153.86\n"
          ]
        }
      ]
    },
    {
      "cell_type": "markdown",
      "source": [
        "Praktikum 3: Membuat Kelas Sederhana"
      ],
      "metadata": {
        "id": "pgCDqwSfXF8L"
      }
    },
    {
      "cell_type": "code",
      "source": [
        "class Buku:\n",
        "  def __init__(self, judul, pengarang, tahun_terbit):\n",
        "    self.judul = judul\n",
        "    self.pengarang = pengarang\n",
        "    self. tahun_terbit = tahun_terbit\n",
        "    self.status = \"Tersedia\"\n",
        "\n",
        "  def tampilkan_info(self):\n",
        "    print(f\"Judul: {self.judul}\")\n",
        "    print(f\"Pengarang: {self.pengarang}\")\n",
        "    print(f\"Tahun Terbit: {self.tahun_terbit}\")\n",
        "    print(f\"Status: {self.status}\")\n",
        "\n",
        "  def pinjam (self):\n",
        "    if self.status == \"Tersedia\":\n",
        "      self.status = \"Dipinjam\"\n",
        "      print(f\"Buku '{self.judul}' berhasil dipinjam.\")\n",
        "    else:\n",
        "        print(f\"Buku '{self.judul}' sedang dipinjam.\")\n",
        "\n",
        "  def kembalikan(self):\n",
        "    if self.status == \"Dipinjam\":\n",
        "      self.status = \"Tersedia\"\n",
        "      print(f\"Buku '{self.judul}' telah dikembalikan.\")\n",
        "    else:\n",
        "      print(f\"Buku '{self.judul}' tidak sedang dipinjam.\")\n",
        "\n",
        "buku1 = Buku(\"Pemrograman Python\", \"John Doe\", 2021)\n",
        "buku2 = Buku(\"Data Science untuk Pemula\", \"Jane Smith\", 2020)\n",
        "\n",
        "buku1.tampilkan_info()\n",
        "print()\n",
        "buku2.pinjam()\n",
        "print()\n",
        "buku1.kembalikan()\n",
        "print()\n",
        "buku2.tampilkan_info()"
      ],
      "metadata": {
        "colab": {
          "base_uri": "https://localhost:8080/"
        },
        "id": "Sqfz3NCqW2m4",
        "outputId": "3ef95d48-ab1c-425a-98b3-36d707efe2aa"
      },
      "execution_count": null,
      "outputs": [
        {
          "output_type": "stream",
          "name": "stdout",
          "text": [
            "Judul: Pemrograman Python\n",
            "Pengarang: John Doe\n",
            "Tahun Terbit: 2021\n",
            "Status: Tersedia\n",
            "\n",
            "Buku 'Data Science untuk Pemula' berhasil dipinjam.\n",
            "\n",
            "Buku 'Pemrograman Python' tidak sedang dipinjam.\n",
            "\n",
            "Judul: Data Science untuk Pemula\n",
            "Pengarang: Jane Smith\n",
            "Tahun Terbit: 2020\n",
            "Status: Dipinjam\n"
          ]
        }
      ]
    },
    {
      "cell_type": "code",
      "source": [
        "# Definisi kelas\n",
        "class Mahasiswa:\n",
        "  def __init__(self, nama, nim, umur):\n",
        "    self.nama = nama # Atribut objek nama\n",
        "    self.nim = nim # Atribut objek nim\n",
        "    self.umur = umur # Atribut objek umur\n",
        "\n",
        "  def tampilkan_info(self):\n",
        "    print(f\"Nama: {self.nama}\")\n",
        "    print(f\"NIM: {self.nim}\")\n",
        "    print(f\"Umur: {self.umur} tahun\")\n",
        "\n",
        "  def ubah_umur(self, umur_baru):\n",
        "    self.umur = umur_baru\n",
        "\n",
        "mahasiswa1 = Mahasiswa(\"Andi\", \"12345\", 20)\n",
        "mahasiswa2 = Mahasiswa(\"Budi\", \"67890\", 22)\n",
        "\n",
        "mahasiswa1.tampilkan_info()\n",
        "print() # Baris kosong\n",
        "mahasiswa2.tampilkan_info()\n",
        "print() # Baris kosong\n",
        "mahasiswa1.ubah_umur(21)\n",
        "print(\"\\nSetelah mengubah umur mahasiswa1:\")\n",
        "mahasiswa1.tampilkan_info()\n"
      ],
      "metadata": {
        "colab": {
          "base_uri": "https://localhost:8080/"
        },
        "id": "X_lG036rY5EJ",
        "outputId": "5a02ecb9-ecce-4f54-ecde-8f1f7d30a2a5"
      },
      "execution_count": null,
      "outputs": [
        {
          "output_type": "stream",
          "name": "stdout",
          "text": [
            "Nama: Andi\n",
            "NIM: 12345\n",
            "Umur: 20 tahun\n",
            "\n",
            "Nama: Budi\n",
            "NIM: 67890\n",
            "Umur: 22 tahun\n",
            "\n",
            "\n",
            "Setelah mengubah umur mahasiswa1:\n",
            "Nama: Andi\n",
            "NIM: 12345\n",
            "Umur: 21 tahun\n"
          ]
        }
      ]
    },
    {
      "cell_type": "markdown",
      "source": [
        "Praktikum 4: Membuat dan Menggunakan Method dalam Kelas"
      ],
      "metadata": {
        "id": "VnaAXn0dZiXB"
      }
    },
    {
      "cell_type": "code",
      "source": [
        "class Mobil:\n",
        "  def __init__(self, merk, warna, tahun, harga):\n",
        "    self.merk = merk\n",
        "    self.warna = warna\n",
        "    self.tahun = tahun\n",
        "    self.harga = harga\n",
        "\n",
        "  def tampilkan_info(self):\n",
        "    print(f\"Mobil {self.merk} berwarna {self.warna}, tahun {self.tahun}, harga: {self.harga}\")\n",
        "\n",
        "  def diskon(self, persen_diskon):\n",
        "    diskon_harga = self.harga * (persen_diskon / 100)\n",
        "    harga_setelah_diskon = self.harga - diskon_harga\n",
        "    print(f\"Harga setelah diskon {persen_diskon}%: Rp {harga_setelah_diskon}\")\n",
        "\n",
        "  def hitung_usia(self, tahun_sekarang):\n",
        "    usia = tahun_sekarang - self.tahun\n",
        "    return usia\n",
        "\n",
        "  def perbarui_harga(self, harga_baru, tahun_baru):\n",
        "    self.harga = harga_baru\n",
        "    self.tahun = tahun_baruprint(f\"Harga dan tahun mobil {self.merk} diperbarui menjadi Rp {self.harga} dan tahun {self.tahun}\")\n",
        "\n",
        "Mobil1 = Mobil(\"Toyota\", \"Hitam\", 2015, 300000000)\n",
        "Mobil2 = Mobil(\"Honda\", \"Merah\", 2018, 250000000)\n",
        "\n",
        "Mobil1.tampilkan_info()\n",
        "Mobil2.tampilkan_info()\n",
        "\n",
        "usia_mobil1 = Mobil1.hitung_usia(2025)\n",
        "usia_mobil2 = Mobil2.hitung_usia(2025)\n",
        "\n",
        "print(f\"Usia mobil1 pada tahun 2025: {usia_mobil1}\")\n",
        "print(f\"Usia mobil2 pada tahun 2025: {usia_mobil2}\")"
      ],
      "metadata": {
        "colab": {
          "base_uri": "https://localhost:8080/"
        },
        "id": "5muPDjhCZpRc",
        "outputId": "7713c680-2235-42b8-82d0-c19d34468abb"
      },
      "execution_count": null,
      "outputs": [
        {
          "output_type": "stream",
          "name": "stdout",
          "text": [
            "Mobil Toyota berwarna Hitam, tahun 2015, harga: 300000000\n",
            "Mobil Honda berwarna Merah, tahun 2018, harga: 250000000\n",
            "Usia mobil1 pada tahun 2025: 10\n",
            "Usia mobil2 pada tahun 2025: 7\n"
          ]
        }
      ]
    },
    {
      "cell_type": "markdown",
      "source": [
        "PENUGASAN"
      ],
      "metadata": {
        "id": "Uuug6isQDzIA"
      }
    },
    {
      "cell_type": "markdown",
      "source": [
        "3.\tBuat Program: Lihat kembali praktikum 02. Modularisasi dan 03. Kelas sederahan. Buat program sederhana menggunakan dua konsep diatas tentang (Pilih salah satu: A. Penjualan HP, B. jadwal kelas, C. Parkir roda dua)."
      ],
      "metadata": {
        "id": "ufe7tEWhD2Wh"
      }
    },
    {
      "cell_type": "code",
      "source": [
        "import parkir_roda_dua\n",
        "\n",
        "class Parkir:\n",
        "  def __init__(self, plat_motor, durasi, tarif):\n",
        "    self.plat_motor = plat_motor\n",
        "    self.durasi = durasi\n",
        "    self.tarif = parkir.hitung_tarif(self.durasi)\n",
        "\n",
        "  def tampilkan_info(self):\n",
        "    print(f\"Plat Motor: {self.plat_motor}\")\n",
        "    print(f\"Durasi Parkir: {self.durasi} jam\")\n",
        "    print(f\"Tarif Parkir: Rp {self.tarif}\")\n",
        "\n",
        "motor1 = Parkir(\"H 10928 AI\", 2, parkir.hitung_tarif(2))\n",
        "motor2 = Parkir(\"K 12891 WK\", 3, parkir.hitung_tarif(3))\n",
        "\n",
        "motor1.tampilkan_info()\n",
        "print()\n",
        "motor2.tampilkan_info()"
      ],
      "metadata": {
        "id": "NtLOEBPmD0yR",
        "colab": {
          "base_uri": "https://localhost:8080/"
        },
        "outputId": "f9014023-3e8d-4a55-c38d-3804f6084646"
      },
      "execution_count": 43,
      "outputs": [
        {
          "output_type": "stream",
          "name": "stdout",
          "text": [
            "Plat Motor: H 10928 AI\n",
            "Durasi Parkir: 2 jam\n",
            "Tarif Parkir: Rp 4000\n",
            "\n",
            "Plat Motor: K 12891 WK\n",
            "Durasi Parkir: 3 jam\n",
            "Tarif Parkir: Rp 6000\n"
          ]
        }
      ]
    }
  ]
}