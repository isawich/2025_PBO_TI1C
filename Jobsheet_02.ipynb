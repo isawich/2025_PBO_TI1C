{
  "nbformat": 4,
  "nbformat_minor": 0,
  "metadata": {
    "colab": {
      "provenance": [],
      "authorship_tag": "ABX9TyNxBROzutRaQmiytlqc91Os",
      "include_colab_link": true
    },
    "kernelspec": {
      "name": "python3",
      "display_name": "Python 3"
    },
    "language_info": {
      "name": "python"
    }
  },
  "cells": [
    {
      "cell_type": "markdown",
      "metadata": {
        "id": "view-in-github",
        "colab_type": "text"
      },
      "source": [
        "<a href=\"https://colab.research.google.com/github/isawich/2025_PBO_TI1C/blob/main/Jobsheet_02.ipynb\" target=\"_parent\"><img src=\"https://colab.research.google.com/assets/colab-badge.svg\" alt=\"Open In Colab\"/></a>"
      ]
    },
    {
      "cell_type": "markdown",
      "source": [
        "Praktkum 1: Membuat dan Menggunakan Fungsi"
      ],
      "metadata": {
        "id": "rHkLHd5jMsu8"
      }
    },
    {
      "cell_type": "code",
      "execution_count": 26,
      "metadata": {
        "colab": {
          "base_uri": "https://localhost:8080/"
        },
        "id": "VzNQBqz8MKWH",
        "outputId": "c8bbb60f-f6bb-42be-acc6-286861f69020"
      },
      "outputs": [
        {
          "output_type": "stream",
          "name": "stdout",
          "text": [
            "Ini adalah contoh fungsi Built-in\n"
          ]
        }
      ],
      "source": [
        "# Fungsi Built-in\n",
        "print(\"Ini adalah contoh fungsi Built-in\")"
      ]
    },
    {
      "cell_type": "code",
      "source": [
        "# Fungsi len()\n",
        "kata = \"Pemrograman\"\n",
        "panjang_kata = len(kata)\n",
        "print(\"Panjang kata:\", panjang_kata)"
      ],
      "metadata": {
        "colab": {
          "base_uri": "https://localhost:8080/"
        },
        "id": "CR7XOBThNC7f",
        "outputId": "8eb24603-d6af-41dd-e007-28a0f7dd7b48"
      },
      "execution_count": 27,
      "outputs": [
        {
          "output_type": "stream",
          "name": "stdout",
          "text": [
            "Panjang kata: 11\n"
          ]
        }
      ]
    },
    {
      "cell_type": "code",
      "source": [
        "# Fungsi max()\n",
        "angka = [10, 5, 30, 40, 25]\n",
        "nilai_max = max(angka)\n",
        "print(f\"Nilai maksimum dalam daftar {angka} adalah: {nilai_max}\")"
      ],
      "metadata": {
        "colab": {
          "base_uri": "https://localhost:8080/"
        },
        "id": "cO1DNm96NlWK",
        "outputId": "d32a4d0b-23fa-41e9-f623-9ebb65e7c500"
      },
      "execution_count": 28,
      "outputs": [
        {
          "output_type": "stream",
          "name": "stdout",
          "text": [
            "Nilai maksimum dalam daftar [10, 5, 30, 40, 25] adalah: 40\n"
          ]
        }
      ]
    },
    {
      "cell_type": "code",
      "source": [
        "#Fungsi User-Defined\n",
        "# 1 Parameter\n",
        "def cetak_kuadrat(angka):\n",
        "  print(f\"Kuadrat dari {angka} adalah: {angka ** 2}\")\n",
        "\n",
        "# Pemanggilan dengan 1 parameter\n",
        "cetak_kuadrat(5)"
      ],
      "metadata": {
        "colab": {
          "base_uri": "https://localhost:8080/"
        },
        "id": "8bB1QCctOkP5",
        "outputId": "076b3d82-3712-43af-9862-0c962f997951"
      },
      "execution_count": 29,
      "outputs": [
        {
          "output_type": "stream",
          "name": "stdout",
          "text": [
            "Kuadrat dari 5 adalah: 25\n"
          ]
        }
      ]
    },
    {
      "cell_type": "code",
      "source": [
        "# Beberapa Parameter\n",
        "def hitung_luas_persegi_panjang(panjang, lebar):\n",
        "  return panjang * lebar\n",
        "\n",
        "# Pemanggilan dengan beberapa parameter\n",
        "luas = hitung_luas_persegi_panjang(10, 5)\n",
        "print(f\"Luas persegi panjang: {luas}\")"
      ],
      "metadata": {
        "colab": {
          "base_uri": "https://localhost:8080/"
        },
        "id": "om9tTEqVPb2s",
        "outputId": "a94fee25-24c6-4347-bbdc-7c1655d172f2"
      },
      "execution_count": 30,
      "outputs": [
        {
          "output_type": "stream",
          "name": "stdout",
          "text": [
            "Luas persegi panjang: 50\n"
          ]
        }
      ]
    },
    {
      "cell_type": "code",
      "source": [
        "# Beberapa Tipe Parameter\n",
        "def info_mahasiswa(nama, umur, ipk):\n",
        "  print(f\"Nama: {nama}, Umur: {umur}, IPK: {ipk}\")\n",
        "\n",
        "# Pemanggilan dengan beberapa tipe parameter\n",
        "info_mahasiswa(\"Budi\", 22, 3.8)"
      ],
      "metadata": {
        "colab": {
          "base_uri": "https://localhost:8080/"
        },
        "id": "D_Dw4TAVP4o4",
        "outputId": "26ba4c9b-7654-4553-d1e6-0c52c22830ac"
      },
      "execution_count": 31,
      "outputs": [
        {
          "output_type": "stream",
          "name": "stdout",
          "text": [
            "Nama: Budi, Umur: 22, IPK: 3.8\n"
          ]
        }
      ]
    },
    {
      "cell_type": "code",
      "source": [
        "# Fungsi Tanpa Return Value\n",
        "def sapa_pengguna(nama):\n",
        "  print(f\"Halo, {nama}! Selamat Datang di dunia Python.\")\n",
        "\n",
        "# Pemanggilan fungsi tanpa return value\n",
        "sapa_pengguna(\"Andi\")"
      ],
      "metadata": {
        "colab": {
          "base_uri": "https://localhost:8080/"
        },
        "id": "fKFr87YwQjx3",
        "outputId": "198eb2a1-71e1-4691-f2f8-6c2ec2e7f90e"
      },
      "execution_count": 32,
      "outputs": [
        {
          "output_type": "stream",
          "name": "stdout",
          "text": [
            "Halo, Andi! Selamat Datang di dunia Python.\n"
          ]
        }
      ]
    },
    {
      "cell_type": "code",
      "source": [
        "# Fungsi Dengan Return Value\n",
        "def hitung_keliling_persegi(sisi):\n",
        "  return 4 * sisi\n",
        "\n",
        "# Pemanggilan fungsi dengan return value\n",
        "keliling = hitung_keliling_persegi(5)\n",
        "print(f\"Keliling persegi dengan 5 sisi adalah: {keliling}\")"
      ],
      "metadata": {
        "colab": {
          "base_uri": "https://localhost:8080/"
        },
        "id": "N1HrGKjQRNul",
        "outputId": "856dadb0-5a0c-4f23-8cb4-7a49044fdbdf"
      },
      "execution_count": 33,
      "outputs": [
        {
          "output_type": "stream",
          "name": "stdout",
          "text": [
            "Keliling persegi dengan 5 sisi adalah: 20\n"
          ]
        }
      ]
    },
    {
      "cell_type": "markdown",
      "source": [
        "Praktikum 2: Modularisasi Kode dengan Fungsi"
      ],
      "metadata": {
        "id": "q13lmz2YSKI9"
      }
    },
    {
      "cell_type": "code",
      "source": [
        "# File utama main.py yang mengimpor modul geometri.py\n",
        "\n",
        "import geometry\n",
        "\n",
        "def main():\n",
        "  luas_persegi = geometry.hitung_luas_persegi(5)\n",
        "  print(f\"Luas persegi dengan sisi 5 adalah: {luas_persegi}\")\n",
        "  luas_persegi_panjang = geometry.hitung_luas_persegi_panjang(10, 5)\n",
        "  print(f\"Luas persegi panjang dengan panjang 10 dan lebar 5 adalah: {luas_persegi_panjang}\")\n",
        "  luas_lingkaran = geometry.hitung_luas_lingkaran(7)\n",
        "  print(f\"Luas lingkaran dengan jari-jari 7 adalah: {luas_lingkaran}\")\n",
        "\n",
        "if __name__ == \"__main__\":\n",
        "  main()\n"
      ],
      "metadata": {
        "colab": {
          "base_uri": "https://localhost:8080/"
        },
        "id": "6VWVeN_bSIy4",
        "outputId": "dc080030-537c-41ed-fbbe-d55f4fa04b73"
      },
      "execution_count": 35,
      "outputs": [
        {
          "output_type": "stream",
          "name": "stdout",
          "text": [
            "Luas persegi dengan sisi 5 adalah: 25\n",
            "Luas persegi panjang dengan panjang 10 dan lebar 5 adalah: 50\n",
            "Luas lingkaran dengan jari-jari 7 adalah: 153.86\n"
          ]
        }
      ]
    },
    {
      "cell_type": "markdown",
      "source": [
        "Praktikum 3: Membuat Kelas Sederhana"
      ],
      "metadata": {
        "id": "pgCDqwSfXF8L"
      }
    },
    {
      "cell_type": "code",
      "source": [
        "class Buku:\n",
        "  def __init__(self, judul, pengarang, tahun_terbit):\n",
        "    self.judul = judul\n",
        "    self.pengarang = pengarang\n",
        "    self. tahun_terbit = tahun_terbit\n",
        "    self.status = \"Tersedia\"\n",
        "\n",
        "  def tampilkan_info(self):\n",
        "    print(f\"Judul: {self.judul}\")\n",
        "    print(f\"Pengarang: {self.pengarang}\")\n",
        "    print(f\"Tahun Terbit: {self.tahun_terbit}\")\n",
        "    print(f\"Status: {self.status}\")\n",
        "\n",
        "  def pinjam (self):\n",
        "    if self.status == \"Tersedia\":\n",
        "      self.status = \"Dipinjam\"\n",
        "      print(f\"Buku '{self.judul}' berhasil dipinjam.\")\n",
        "    else:\n",
        "        print(f\"Buku '{self.judul}' sedang dipinjam.\")\n",
        "\n",
        "  def kembalikan(self):\n",
        "    if self.status == \"Dipinjam\":\n",
        "      self.status = \"Tersedia\"\n",
        "      print(f\"Buku '{self.judul}' telah dikembalikan.\")\n",
        "    else:\n",
        "      print(f\"Buku '{self.judul}' tidak sedang dipinjam.\")\n",
        "\n",
        "buku1 = Buku(\"Pemrograman Python\", \"John Doe\", 2021)\n",
        "buku2 = Buku(\"Data Science untuk Pemula\", \"Jane Smith\", 2020)\n",
        "\n",
        "buku1.tampilkan_info()\n",
        "print()\n",
        "buku2.pinjam()\n",
        "print()\n",
        "buku1.kembalikan()\n",
        "print()\n",
        "buku2.tampilkan_info()"
      ],
      "metadata": {
        "colab": {
          "base_uri": "https://localhost:8080/"
        },
        "id": "Sqfz3NCqW2m4",
        "outputId": "bde50028-ba53-46da-adb0-70765239ea7c"
      },
      "execution_count": 36,
      "outputs": [
        {
          "output_type": "stream",
          "name": "stdout",
          "text": [
            "Judul: Pemrograman Python\n",
            "Pengarang: John Doe\n",
            "Tahun Terbit: 2021\n",
            "Status: Tersedia\n",
            "\n",
            "Buku 'Data Science untuk Pemula' berhasil dipinjam.\n",
            "\n",
            "Buku 'Pemrograman Python' tidak sedang dipinjam.\n",
            "\n",
            "Judul: Data Science untuk Pemula\n",
            "Pengarang: Jane Smith\n",
            "Tahun Terbit: 2020\n",
            "Status: Dipinjam\n"
          ]
        }
      ]
    },
    {
      "cell_type": "code",
      "source": [
        "# Definisi kelas\n",
        "class Mahasiswa:\n",
        "  def __init__(self, nama, nim, umur):\n",
        "    self.nama = nama # Atribut objek nama\n",
        "    self.nim = nim # Atribut objek nim\n",
        "    self.umur = umur # Atribut objek umur\n",
        "\n",
        "  def tampilkan_info(self):\n",
        "    print(f\"Nama: {self.nama}\")\n",
        "    print(f\"NIM: {self.nim}\")\n",
        "    print(f\"Umur: {self.umur} tahun\")\n",
        "\n",
        "  def ubah_umur(self, umur_baru):\n",
        "    self.umur = umur_baru\n",
        "\n",
        "mahasiswa1 = Mahasiswa(\"Andi\", \"12345\", 20)\n",
        "mahasiswa2 = Mahasiswa(\"Budi\", \"67890\", 22)\n",
        "\n",
        "mahasiswa1.tampilkan_info()\n",
        "print() # Baris kosong\n",
        "mahasiswa2.tampilkan_info()\n",
        "print() # Baris kosong\n",
        "mahasiswa1.ubah_umur(21)\n",
        "print(\"\\nSetelah mengubah umur mahasiswa1:\")\n",
        "mahasiswa1.tampilkan_info()\n"
      ],
      "metadata": {
        "colab": {
          "base_uri": "https://localhost:8080/"
        },
        "id": "X_lG036rY5EJ",
        "outputId": "e86390a5-b4ea-4cec-fa62-a0f069f2673a"
      },
      "execution_count": 37,
      "outputs": [
        {
          "output_type": "stream",
          "name": "stdout",
          "text": [
            "Nama: Andi\n",
            "NIM: 12345\n",
            "Umur: 20 tahun\n",
            "\n",
            "Nama: Budi\n",
            "NIM: 67890\n",
            "Umur: 22 tahun\n",
            "\n",
            "\n",
            "Setelah mengubah umur mahasiswa1:\n",
            "Nama: Andi\n",
            "NIM: 12345\n",
            "Umur: 21 tahun\n"
          ]
        }
      ]
    },
    {
      "cell_type": "markdown",
      "source": [
        "Praktikum 4: Membuat dan Menggunakan Method dalam Kelas"
      ],
      "metadata": {
        "id": "VnaAXn0dZiXB"
      }
    },
    {
      "cell_type": "code",
      "source": [
        "class Mobil:\n",
        "  def __init__(self, merk, warna, tahun, harga):\n",
        "    self.merk = merk\n",
        "    self.warna = warna\n",
        "    self.tahun = tahun\n",
        "    self.harga = harga\n",
        "\n",
        "  def tampilkan_info(self):\n",
        "    print(f\"Mobil {self.merk} berwarna {self.warna}, tahun {self.tahun}, harga: {self.harga}\")\n",
        "\n",
        "  def diskon(self, persen_diskon):\n",
        "    diskon_harga = self.harga * (persen_diskon / 100)\n",
        "    harga_setelah_diskon = self.harga - diskon_harga\n",
        "    print(f\"Harga setelah diskon {persen_diskon}%: Rp {harga_setelah_diskon}\")\n",
        "\n",
        "  def hitung_usia(self, tahun_sekarang):\n",
        "    usia = tahun_sekarang - self.tahun\n",
        "    return usia\n",
        "\n",
        "  def perbarui_harga(self, harga_baru, tahun_baru):\n",
        "    self.harga = harga_baru\n",
        "    self.tahun = tahun_baruprint(f\"Harga dan tahun mobil {self.merk} diperbarui menjadi Rp {self.harga} dan tahun {self.tahun}\")\n",
        "\n",
        "Mobil1 = Mobil(\"Toyota\", \"Hitam\", 2015, 300000000)\n",
        "Mobil2 = Mobil(\"Honda\", \"Merah\", 2018, 250000000)\n",
        "\n",
        "Mobil1.tampilkan_info()\n",
        "Mobil2.tampilkan_info()\n",
        "\n",
        "usia_mobil1 = Mobil1.hitung_usia(2025)\n",
        "usia_mobil2 = Mobil2.hitung_usia(2025)\n",
        "\n",
        "print(f\"Usia mobil1 pada tahun 2025: {usia_mobil1}\")\n",
        "print(f\"Usia mobil2 pada tahun 2025: {usia_mobil2}\")"
      ],
      "metadata": {
        "colab": {
          "base_uri": "https://localhost:8080/"
        },
        "id": "5muPDjhCZpRc",
        "outputId": "71df915c-cc09-4db2-952d-48cd5018338f"
      },
      "execution_count": 38,
      "outputs": [
        {
          "output_type": "stream",
          "name": "stdout",
          "text": [
            "Mobil Toyota berwarna Hitam, tahun 2015, harga: 300000000\n",
            "Mobil Honda berwarna Merah, tahun 2018, harga: 250000000\n",
            "Usia mobil1 pada tahun 2025: 10\n",
            "Usia mobil2 pada tahun 2025: 7\n"
          ]
        }
      ]
    },
    {
      "cell_type": "markdown",
      "source": [
        "PENUGASAN"
      ],
      "metadata": {
        "id": "Uuug6isQDzIA"
      }
    },
    {
      "cell_type": "markdown",
      "source": [
        "3.\tBuat Program: Lihat kembali praktikum 02. Modularisasi dan 03. Kelas sederahan. Buat program sederhana menggunakan dua konsep diatas tentang (Pilih salah satu: A. Penjualan HP, B. jadwal kelas, C. Parkir roda dua)."
      ],
      "metadata": {
        "id": "ufe7tEWhD2Wh"
      }
    },
    {
      "cell_type": "code",
      "source": [
        "import parkir\n",
        "\n",
        "class Parkir:\n",
        "  def __init__(self, plat_motor, durasi, tarif):\n",
        "    self.plat_motor = plat_motor\n",
        "    self.durasi = durasi\n",
        "    self.tarif = parkir.hitung_tarif(self.durasi)\n",
        "\n",
        "  def tampilkan_info(self):\n",
        "    print(f\"Plat Motor: {self.plat_motor}\")\n",
        "    print(f\"Durasi Parkir: {self.durasi} jam\")\n",
        "    print(f\"Tarif Parkir: Rp {self.tarif}\")\n",
        "\n",
        "motor1 = Parkir(\"H 10928 AI\", 2, parkir.hitung_tarif(2))\n",
        "motor2 = Parkir(\"K 12891 WK\", 3, parkir.hitung_tarif(3))\n",
        "\n",
        "motor1.tampilkan_info()\n",
        "print()\n",
        "motor2.tampilkan_info()"
      ],
      "metadata": {
        "id": "NtLOEBPmD0yR",
        "outputId": "e8912123-91f3-4ce9-a646-96ecc8be0740",
        "colab": {
          "base_uri": "https://localhost:8080/"
        }
      },
      "execution_count": 39,
      "outputs": [
        {
          "output_type": "stream",
          "name": "stdout",
          "text": [
            "Plat Motor: H 10928 AI\n",
            "Durasi Parkir: 2 jam\n",
            "Tarif Parkir: Rp 4000\n",
            "\n",
            "Plat Motor: K 12891 WK\n",
            "Durasi Parkir: 3 jam\n",
            "Tarif Parkir: Rp 6000\n"
          ]
        }
      ]
    }
  ]
}