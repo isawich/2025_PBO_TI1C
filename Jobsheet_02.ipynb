{
  "nbformat": 4,
  "nbformat_minor": 0,
  "metadata": {
    "colab": {
      "provenance": [],
      "authorship_tag": "ABX9TyPVnGbcycFZsaQUnV4Tm/sn",
      "include_colab_link": true
    },
    "kernelspec": {
      "name": "python3",
      "display_name": "Python 3"
    },
    "language_info": {
      "name": "python"
    }
  },
  "cells": [
    {
      "cell_type": "markdown",
      "metadata": {
        "id": "view-in-github",
        "colab_type": "text"
      },
      "source": [
        "<a href=\"https://colab.research.google.com/github/isawich/2025_PBO_TI1C/blob/main/Jobsheet_02.ipynb\" target=\"_parent\"><img src=\"https://colab.research.google.com/assets/colab-badge.svg\" alt=\"Open In Colab\"/></a>"
      ]
    },
    {
      "cell_type": "markdown",
      "source": [
        "Praktkum 1: Membuat dan Menggunakan Fungsi"
      ],
      "metadata": {
        "id": "rHkLHd5jMsu8"
      }
    },
    {
      "cell_type": "code",
      "execution_count": null,
      "metadata": {
        "colab": {
          "base_uri": "https://localhost:8080/"
        },
        "id": "VzNQBqz8MKWH",
        "outputId": "15bdca06-c644-47c2-daee-94975851b163"
      },
      "outputs": [
        {
          "output_type": "stream",
          "name": "stdout",
          "text": [
            "Ini adalah contoh fungsi Built-in\n"
          ]
        }
      ],
      "source": [
        "# Fungsi Built-in\n",
        "print(\"Ini adalah contoh fungsi Built-in\")"
      ]
    },
    {
      "cell_type": "code",
      "source": [
        "# Fungsi len()\n",
        "kata = \"Pemrograman\"\n",
        "panjang_kata = len(kata)\n",
        "print(\"Panjang kata:\", panjang_kata)"
      ],
      "metadata": {
        "colab": {
          "base_uri": "https://localhost:8080/"
        },
        "id": "CR7XOBThNC7f",
        "outputId": "aee50eba-7ec3-4dd2-c55a-00af0f5e93a0"
      },
      "execution_count": null,
      "outputs": [
        {
          "output_type": "stream",
          "name": "stdout",
          "text": [
            "Panjang kata: 11\n"
          ]
        }
      ]
    },
    {
      "cell_type": "code",
      "source": [
        "# Fungsi max()\n",
        "angka = [10, 5, 30, 40, 25]\n",
        "nilai_max = max(angka)\n",
        "print(f\"Nilai maksimum dalam daftar {angka} adalah: {nilai_max}\")"
      ],
      "metadata": {
        "colab": {
          "base_uri": "https://localhost:8080/"
        },
        "id": "cO1DNm96NlWK",
        "outputId": "18a8ac6a-aab4-41ae-9581-eefe337a897d"
      },
      "execution_count": null,
      "outputs": [
        {
          "output_type": "stream",
          "name": "stdout",
          "text": [
            "Nilai maksimum dalam daftar [10, 5, 30, 40, 25] adalah: 40\n"
          ]
        }
      ]
    },
    {
      "cell_type": "code",
      "source": [
        "#Fungsi User-Defined\n",
        "# 1 Parameter\n",
        "def cetak_kuadrat(angka):\n",
        "  print(f\"Kuadrat dari {angka} adalah: {angka ** 2}\")\n",
        "\n",
        "# Pemanggilan dengan 1 parameter\n",
        "cetak_kuadrat(5)"
      ],
      "metadata": {
        "colab": {
          "base_uri": "https://localhost:8080/"
        },
        "id": "8bB1QCctOkP5",
        "outputId": "1785f810-77ff-4413-d7ad-f006dbfaec98"
      },
      "execution_count": null,
      "outputs": [
        {
          "output_type": "stream",
          "name": "stdout",
          "text": [
            "Kuadrat dari 5 adalah: 25\n"
          ]
        }
      ]
    },
    {
      "cell_type": "code",
      "source": [
        "# Beberapa Parameter\n",
        "def hitung_luas_persegi_panjang(panjang, lebar):\n",
        "  return panjang * lebar\n",
        "\n",
        "# Pemanggilan dengan beberapa parameter\n",
        "luas = hitung_luas_persegi_panjang(10, 5)\n",
        "print(f\"Luas persegi panjang: {luas}\")"
      ],
      "metadata": {
        "colab": {
          "base_uri": "https://localhost:8080/"
        },
        "id": "om9tTEqVPb2s",
        "outputId": "ea898233-e8f9-4bef-c78d-f939e03f01a2"
      },
      "execution_count": null,
      "outputs": [
        {
          "output_type": "stream",
          "name": "stdout",
          "text": [
            "Luas persegi panjang: 50\n"
          ]
        }
      ]
    },
    {
      "cell_type": "code",
      "source": [
        "# Beberapa Tipe Parameter\n",
        "def info_mahasiswa(nama, umur, ipk):\n",
        "  print(f\"Nama: {nama}, Umur: {umur}, IPK: {ipk}\")\n",
        "\n",
        "# Pemanggilan dengan beberapa tipe parameter\n",
        "info_mahasiswa(\"Budi\", 22, 3.8)"
      ],
      "metadata": {
        "colab": {
          "base_uri": "https://localhost:8080/"
        },
        "id": "D_Dw4TAVP4o4",
        "outputId": "7ace92f7-a9ee-4938-a689-2352036783db"
      },
      "execution_count": null,
      "outputs": [
        {
          "output_type": "stream",
          "name": "stdout",
          "text": [
            "Nama: Budi, Umur: 22, IPK: 3.8\n"
          ]
        }
      ]
    },
    {
      "cell_type": "code",
      "source": [
        "# Fungsi Tanpa Return Value\n",
        "def sapa_pengguna(nama):\n",
        "  print(f\"Halo, {nama}! Selamat Datang di dunia Python.\")\n",
        "\n",
        "# Pemanggilan fungsi tanpa return value\n",
        "sapa_pengguna(\"Andi\")"
      ],
      "metadata": {
        "colab": {
          "base_uri": "https://localhost:8080/"
        },
        "id": "fKFr87YwQjx3",
        "outputId": "5dec9ccd-2615-400b-bd22-c30cceebd6c1"
      },
      "execution_count": null,
      "outputs": [
        {
          "output_type": "stream",
          "name": "stdout",
          "text": [
            "Halo, Andi! Selamat Datang di dunia Python.\n"
          ]
        }
      ]
    },
    {
      "cell_type": "code",
      "source": [
        "# Fungsi Dengan Return Value\n",
        "def hitung_keliling_persegi(sisi):\n",
        "  return 4 * sisi\n",
        "\n",
        "# Pemanggilan fungsi dengan return value\n",
        "keliling = hitung_keliling_persegi(5)\n",
        "print(f\"Keliling persegi dengan 5 sisi adalah: {keliling}\")"
      ],
      "metadata": {
        "colab": {
          "base_uri": "https://localhost:8080/"
        },
        "id": "N1HrGKjQRNul",
        "outputId": "4a10312a-39f4-44d5-81aa-35301a775dae"
      },
      "execution_count": null,
      "outputs": [
        {
          "output_type": "stream",
          "name": "stdout",
          "text": [
            "Keliling persegi dengan 5 sisi adalah: 20\n"
          ]
        }
      ]
    },
    {
      "cell_type": "markdown",
      "source": [
        "Praktikum 2: Modularisasi Kode dengan Fungsi"
      ],
      "metadata": {
        "id": "q13lmz2YSKI9"
      }
    },
    {
      "cell_type": "code",
      "source": [
        "# File utama main.py yang mengimpor modul geometri.py\n",
        "\n",
        "import geometry\n",
        "\n",
        "def main():\n",
        "  luas_persegi = geometry.hitung_luas_persegi(5)\n",
        "  print(f\"Luas persegi dengan sisi 5 adalah: {luas_persegi}\")\n",
        "  luas_persegi_panjang = geometry.hitung_luas_persegi_panjang(10, 5)\n",
        "  print(f\"Luas persegi panjang dengan panjang 10 dan lebar 5 adalah: {luas_persegi_panjang}\")\n",
        "  luas_lingkaran = geometry.hitung_luas_lingkaran(7)\n",
        "  print(f\"Luas lingkaran dengan jari-jari 7 adalah: {luas_lingkaran}\")\n",
        "\n",
        "if __name__ == \"__main__\":\n",
        "  main()\n"
      ],
      "metadata": {
        "colab": {
          "base_uri": "https://localhost:8080/"
        },
        "id": "6VWVeN_bSIy4",
        "outputId": "64cdab96-266e-477c-9e71-fb58d2ce87f4"
      },
      "execution_count": null,
      "outputs": [
        {
          "output_type": "stream",
          "name": "stdout",
          "text": [
            "Luas persegi dengan sisi 5 adalah: 25\n",
            "Luas persegi panjang dengan panjang 10 dan lebar 5 adalah: 50\n",
            "Luas lingkaran dengan jari-jari 7 adalah: 153.86\n"
          ]
        }
      ]
    },
    {
      "cell_type": "markdown",
      "source": [
        "Praktikum 3: Membuat Kelas Sederhana"
      ],
      "metadata": {
        "id": "pgCDqwSfXF8L"
      }
    },
    {
      "cell_type": "code",
      "source": [
        "class Buku:\n",
        "  def __init__(self, judul, pengarang, tahun_terbit):\n",
        "    self.judul = judul\n",
        "    self.pengarang = pengarang\n",
        "    self. tahun_terbit = tahun_terbit\n",
        "    self.status = \"Tersedia\"\n",
        "\n",
        "  def tampilkan_info(self):\n",
        "    print(f\"Judul: {self.judul}\")\n",
        "    print(f\"Pengarang: {self.pengarang}\")\n",
        "    print(f\"Tahun Terbit: {self.tahun_terbit}\")\n",
        "    print(f\"Status: {self.status}\")\n",
        "\n",
        "  def pinjam (self):\n",
        "    if self.status == \"Tersedia\":\n",
        "      self.status = \"Dipinjam\"\n",
        "      print(f\"Buku '{self.judul}' berhasil dipinjam.\")\n",
        "    else:\n",
        "        print(f\"Buku '{self.judul}' sedang dipinjam.\")\n",
        "\n",
        "  def kembalikan(self):\n",
        "    if self.status == \"Dipinjam\":\n",
        "      self.status = \"Tersedia\"\n",
        "      print(f\"Buku '{self.judul}' telah dikembalikan.\")\n",
        "    else:\n",
        "      print(f\"Buku '{self.judul}' tidak sedang dipinjam.\")\n",
        "\n",
        "buku1 = Buku(\"Pemrograman Python\", \"John Doe\", 2021)\n",
        "buku2 = Buku(\"Data Science untuk Pemula\", \"Jane Smith\", 2020)\n",
        "\n",
        "buku1.tampilkan_info()\n",
        "print()\n",
        "buku2.pinjam()\n",
        "print()\n",
        "buku1.kembalikan()\n",
        "print()\n",
        "buku2.tampilkan_info()"
      ],
      "metadata": {
        "colab": {
          "base_uri": "https://localhost:8080/"
        },
        "id": "Sqfz3NCqW2m4",
        "outputId": "3ef95d48-ab1c-425a-98b3-36d707efe2aa"
      },
      "execution_count": null,
      "outputs": [
        {
          "output_type": "stream",
          "name": "stdout",
          "text": [
            "Judul: Pemrograman Python\n",
            "Pengarang: John Doe\n",
            "Tahun Terbit: 2021\n",
            "Status: Tersedia\n",
            "\n",
            "Buku 'Data Science untuk Pemula' berhasil dipinjam.\n",
            "\n",
            "Buku 'Pemrograman Python' tidak sedang dipinjam.\n",
            "\n",
            "Judul: Data Science untuk Pemula\n",
            "Pengarang: Jane Smith\n",
            "Tahun Terbit: 2020\n",
            "Status: Dipinjam\n"
          ]
        }
      ]
    },
    {
      "cell_type": "code",
      "source": [
        "# Definisi kelas\n",
        "class Mahasiswa:\n",
        "  def __init__(self, nama, nim, umur):\n",
        "    self.nama = nama # Atribut objek nama\n",
        "    self.nim = nim # Atribut objek nim\n",
        "    self.umur = umur # Atribut objek umur\n",
        "\n",
        "  def tampilkan_info(self):\n",
        "    print(f\"Nama: {self.nama}\")\n",
        "    print(f\"NIM: {self.nim}\")\n",
        "    print(f\"Umur: {self.umur} tahun\")\n",
        "\n",
        "  def ubah_umur(self, umur_baru):\n",
        "    self.umur = umur_baru\n",
        "\n",
        "mahasiswa1 = Mahasiswa(\"Andi\", \"12345\", 20)\n",
        "mahasiswa2 = Mahasiswa(\"Budi\", \"67890\", 22)\n",
        "\n",
        "mahasiswa1.tampilkan_info()\n",
        "print() # Baris kosong\n",
        "mahasiswa2.tampilkan_info()\n",
        "print() # Baris kosong\n",
        "mahasiswa1.ubah_umur(21)\n",
        "print(\"\\nSetelah mengubah umur mahasiswa1:\")\n",
        "mahasiswa1.tampilkan_info()\n"
      ],
      "metadata": {
        "colab": {
          "base_uri": "https://localhost:8080/"
        },
        "id": "X_lG036rY5EJ",
        "outputId": "5a02ecb9-ecce-4f54-ecde-8f1f7d30a2a5"
      },
      "execution_count": null,
      "outputs": [
        {
          "output_type": "stream",
          "name": "stdout",
          "text": [
            "Nama: Andi\n",
            "NIM: 12345\n",
            "Umur: 20 tahun\n",
            "\n",
            "Nama: Budi\n",
            "NIM: 67890\n",
            "Umur: 22 tahun\n",
            "\n",
            "\n",
            "Setelah mengubah umur mahasiswa1:\n",
            "Nama: Andi\n",
            "NIM: 12345\n",
            "Umur: 21 tahun\n"
          ]
        }
      ]
    },
    {
      "cell_type": "markdown",
      "source": [
        "Praktikum 4: Membuat dan Menggunakan Method dalam Kelas"
      ],
      "metadata": {
        "id": "VnaAXn0dZiXB"
      }
    },
    {
      "cell_type": "code",
      "source": [
        "class Mobil:\n",
        "  def __init__(self, merk, warna, tahun, harga):\n",
        "    self.merk = merk\n",
        "    self.warna = warna\n",
        "    self.tahun = tahun\n",
        "    self.harga = harga\n",
        "\n",
        "  def tampilkan_info(self):\n",
        "    print(f\"Mobil {self.merk} berwarna {self.warna}, tahun {self.tahun}, harga: {self.harga}\")\n",
        "\n",
        "  def diskon(self, persen_diskon):\n",
        "    diskon_harga = self.harga * (persen_diskon / 100)\n",
        "    harga_setelah_diskon = self.harga - diskon_harga\n",
        "    print(f\"Harga setelah diskon {persen_diskon}%: Rp {harga_setelah_diskon}\")\n",
        "\n",
        "  def hitung_usia(self, tahun_sekarang):\n",
        "    usia = tahun_sekarang - self.tahun\n",
        "    return usia\n",
        "\n",
        "  def perbarui_harga(self, harga_baru, tahun_baru):\n",
        "    self.harga = harga_baru\n",
        "    self.tahun = tahun_baruprint(f\"Harga dan tahun mobil {self.merk} diperbarui menjadi Rp {self.harga} dan tahun {self.tahun}\")\n",
        "\n",
        "Mobil1 = Mobil(\"Toyota\", \"Hitam\", 2015, 300000000)\n",
        "Mobil2 = Mobil(\"Honda\", \"Merah\", 2018, 250000000)\n",
        "\n",
        "Mobil1.tampilkan_info()\n",
        "Mobil2.tampilkan_info()\n",
        "\n",
        "usia_mobil1 = Mobil1.hitung_usia(2025)\n",
        "usia_mobil2 = Mobil2.hitung_usia(2025)\n",
        "\n",
        "print(f\"Usia mobil1 pada tahun 2025: {usia_mobil1}\")\n",
        "print(f\"Usia mobil2 pada tahun 2025: {usia_mobil2}\")"
      ],
      "metadata": {
        "colab": {
          "base_uri": "https://localhost:8080/"
        },
        "id": "5muPDjhCZpRc",
        "outputId": "7713c680-2235-42b8-82d0-c19d34468abb"
      },
      "execution_count": null,
      "outputs": [
        {
          "output_type": "stream",
          "name": "stdout",
          "text": [
            "Mobil Toyota berwarna Hitam, tahun 2015, harga: 300000000\n",
            "Mobil Honda berwarna Merah, tahun 2018, harga: 250000000\n",
            "Usia mobil1 pada tahun 2025: 10\n",
            "Usia mobil2 pada tahun 2025: 7\n"
          ]
        }
      ]
    }
  ]
}