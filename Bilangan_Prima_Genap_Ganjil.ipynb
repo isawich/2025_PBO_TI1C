{
  "nbformat": 4,
  "nbformat_minor": 0,
  "metadata": {
    "colab": {
      "provenance": [],
      "authorship_tag": "ABX9TyPKcN1Io9aMh80FYzXeBaf5",
      "include_colab_link": true
    },
    "kernelspec": {
      "name": "python3",
      "display_name": "Python 3"
    },
    "language_info": {
      "name": "python"
    }
  },
  "cells": [
    {
      "cell_type": "markdown",
      "metadata": {
        "id": "view-in-github",
        "colab_type": "text"
      },
      "source": [
        "<a href=\"https://colab.research.google.com/github/isawich/2025_PBO_TI1C/blob/main/Bilangan_Prima_Genap_Ganjil.ipynb\" target=\"_parent\"><img src=\"https://colab.research.google.com/assets/colab-badge.svg\" alt=\"Open In Colab\"/></a>"
      ]
    },
    {
      "cell_type": "code",
      "source": [
        "def is_prima(n):\n",
        "    if n < 2:\n",
        "        return False\n",
        "    for i in range(2, int(n**0.5) + 1):\n",
        "        if n % i == 0:\n",
        "            return False\n",
        "    return True\n",
        "\n",
        "def cek_bilangan(n):\n",
        "    if n % 2 == 0:\n",
        "        jenis = \"Genap\"\n",
        "    else:\n",
        "        jenis = \"Ganjil\"\n",
        "\n",
        "    if is_prima(n):\n",
        "        jenis += \" dan Prima\"\n",
        "\n",
        "    return f\"Bilangan {n} adalah {jenis}.\"\n",
        "\n",
        "while True:\n",
        "    print(\"\\n\" + \"-\" * 30)\n",
        "\n",
        "    while True:\n",
        "        try:\n",
        "            angka = int(input(\"Masukkan bilangan bulat: \"))\n",
        "            break\n",
        "        except ValueError:\n",
        "            print(\"Input tidak valid! Harap masukkan bilangan bulat.\")\n",
        "\n",
        "    print(cek_bilangan(angka))\n",
        "\n",
        "    while True:\n",
        "        ulang = input(\"Apakah ingin mengecek bilangan lain? (ya/tidak): \").strip().lower()\n",
        "        if ulang in [\"ya\", \"tidak\"]:\n",
        "            break\n",
        "        print(\"Input tidak valid! Harap masukkan 'ya' atau 'tidak'.\")\n",
        "\n",
        "    if ulang != \"ya\":\n",
        "        print(\"\\nTerima kasih telah menggunakan program ini!\")\n",
        "        break\n"
      ],
      "metadata": {
        "id": "V92k9SUPBji0",
        "outputId": "77e8e415-8fd6-4eed-90f4-a821913203b7",
        "colab": {
          "base_uri": "https://localhost:8080/"
        }
      },
      "execution_count": 1,
      "outputs": [
        {
          "output_type": "stream",
          "name": "stdout",
          "text": [
            "\n",
            "------------------------------\n",
            "Masukkan bilangan bulat: x\n",
            "Input tidak valid! Harap masukkan bilangan bulat.\n",
            "Masukkan bilangan bulat: 12\n",
            "Bilangan 12 adalah Genap.\n",
            "Apakah ingin mengecek bilangan lain? (ya/tidak): ya\n",
            "\n",
            "------------------------------\n",
            "Masukkan bilangan bulat: 15\n",
            "Bilangan 15 adalah Ganjil.\n",
            "Apakah ingin mengecek bilangan lain? (ya/tidak): ya\n",
            "\n",
            "------------------------------\n",
            "Masukkan bilangan bulat: 2\n",
            "Bilangan 2 adalah Genap dan Prima.\n",
            "Apakah ingin mengecek bilangan lain? (ya/tidak): ya\n",
            "\n",
            "------------------------------\n",
            "Masukkan bilangan bulat: 3\n",
            "Bilangan 3 adalah Ganjil dan Prima.\n",
            "Apakah ingin mengecek bilangan lain? (ya/tidak): tidak\n",
            "\n",
            "Terima kasih telah menggunakan program ini!\n"
          ]
        }
      ]
    }
  ]
}