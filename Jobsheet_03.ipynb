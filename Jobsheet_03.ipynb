{
  "nbformat": 4,
  "nbformat_minor": 0,
  "metadata": {
    "colab": {
      "provenance": [],
      "authorship_tag": "ABX9TyMBEXiLb0WZPq+I2ddh+vxb",
      "include_colab_link": true
    },
    "kernelspec": {
      "name": "python3",
      "display_name": "Python 3"
    },
    "language_info": {
      "name": "python"
    }
  },
  "cells": [
    {
      "cell_type": "markdown",
      "metadata": {
        "id": "view-in-github",
        "colab_type": "text"
      },
      "source": [
        "<a href=\"https://colab.research.google.com/github/isawich/2025_PBO_TI1C/blob/main/Jobsheet_03_PBO.ipynb\" target=\"_parent\"><img src=\"https://colab.research.google.com/assets/colab-badge.svg\" alt=\"Open In Colab\"/></a>"
      ]
    },
    {
      "cell_type": "markdown",
      "source": [
        "Praktikum 01: Enkapsulasi pada kelas Bank Account"
      ],
      "metadata": {
        "id": "zavOksa0nyu3"
      }
    },
    {
      "cell_type": "code",
      "source": [
        "class BankAccount:\n",
        "  def __init__(self, owner, balance):\n",
        "    self.__owner = owner\n",
        "    self.__balance = balance\n",
        "\n",
        "  def deposit(self, amount):\n",
        "    \"\"\"Method untuk menambahkan saldo.\"\"\"\n",
        "    if amount > 0:\n",
        "      self.__balance += amount\n",
        "      print(f\"{amount} telah ditambahkan ke akun {self.__owner}.\")\n",
        "    else:\n",
        "      print(\"Jumlah deposit harus lebih dari 0.\")\n",
        "\n",
        "  def withdraw(self, amount):\n",
        "    \"\"\"Method untuk menarik saldo.\"\"\"\n",
        "    if amount <= self.__balance:\n",
        "      self.__balance -= amount\n",
        "      print(f\"{amount} telah ditarik dari akun {self.__owner}.\")\n",
        "    else:\n",
        "      print(\"Saldo tidak mencukupi.\")\n",
        "\n",
        "  def get_balance(self):\n",
        "    \"\"\"Method untuk mendapatkan informasi saldo terkini.\"\"\"\n",
        "    return self.__balance\n",
        "\n",
        "if __name__ == \"__main__\":\n",
        "  alice_account = BankAccount(owner=\"Alice\", balance=1000)\n",
        "  alice_account.deposit(500) # Berhasil\n",
        "  alice_account.deposit(-100) # Gagal (validasi)\n",
        "  alice_account.withdraw(300) # Berhasil\n",
        "  alice_account.withdraw(2000) # Gagal (saldo tidak cukup)\n",
        "  current_balance = alice_account.get_balance()\n",
        "  print(f\"Saldo terakhir di akun {alice_account._BankAccount__owner}:{current_balance}\")"
      ],
      "metadata": {
        "colab": {
          "base_uri": "https://localhost:8080/"
        },
        "id": "nVI0-SlGpYFf",
        "outputId": "2fe729b7-c364-44e4-c77f-3eb63d541ec8"
      },
      "execution_count": null,
      "outputs": [
        {
          "output_type": "stream",
          "name": "stdout",
          "text": [
            "500 telah ditambahkan ke akun Alice.\n",
            "Jumlah deposit harus lebih dari 0.\n",
            "300 telah ditarik dari akun Alice.\n",
            "Saldo tidak mencukupi.\n",
            "Saldo terakhir di akun Alice:1200\n"
          ]
        }
      ]
    },
    {
      "cell_type": "markdown",
      "source": [
        "Praktikum 02: Enkapsulasi pada kelas Employee"
      ],
      "metadata": {
        "id": "WlJkFUsmxTB-"
      }
    },
    {
      "cell_type": "code",
      "source": [
        "class Employee:\n",
        "  def __init__(self, name, salary):\n",
        "    self.__name = name\n",
        "    self.__salary = salary\n",
        "\n",
        "  def update_salary(self, increase):\n",
        "    \"\"\"Method untuk menaikan gaji dengan validasi.\"\"\"\n",
        "    if increase > 0:\n",
        "      self.__salary += increase\n",
        "      print(f\"Gaji telah dinaikkan sebesar {increase}.\")\n",
        "    else:\n",
        "      print(f\"Nilai kenaikan harus lebih dari 0.\")\n",
        "\n",
        "  def set_salary(self, new_salary):\n",
        "    \"\"\"Method untuk mengubah gaji dengan validasi.\"\"\"\n",
        "    if new_salary >= 0:\n",
        "      self.__salary = new_salary\n",
        "      print(f\"Gaji diatur ulang menjadi {new_salary}.\")\n",
        "    else:\n",
        "      print(f\"Gaji tidak boleh negatif.\")\n",
        "\n",
        "  def get_salary(self):\n",
        "    \"\"\"Method unutk mendapatkan informasi gaji terkini.\"\"\"\n",
        "    return self.__salary\n",
        "\n",
        "  def get_employee_info(self):\n",
        "    \"\"\"Method untuk mendapatkan informasi karyawan secara menyeluruh.\"\"\"\n",
        "    return f\"Employee: {self.__name}, Gaji: {self.__salary}\"\n",
        "\n",
        "if __name__ == \"__main__\":\n",
        "  employee1 = Employee(\"John Doe\", 50000)\n",
        "  print(employee1.get_employee_info())\n",
        "\n",
        "  employee1.update_salary(5000)\n",
        "  print(f\"Gaji setelah kenaikan: {employee1.get_salary()}\")\n",
        "\n",
        "  employee1.set_salary(60000)\n",
        "  print(f\"Informasi terbaru: {employee1.get_employee_info()}\")\n",
        "\n",
        "  print (employee1.__salary)\n"
      ],
      "metadata": {
        "colab": {
          "base_uri": "https://localhost:8080/",
          "height": 263
        },
        "id": "CJ1vYZhhxX9I",
        "outputId": "abe7a960-adf9-40df-a39d-815355411938"
      },
      "execution_count": null,
      "outputs": [
        {
          "output_type": "stream",
          "name": "stdout",
          "text": [
            "Employee: John Doe, Gaji: 50000\n",
            "Gaji telah dinaikkan sebesar 5000.\n",
            "Gaji setelah kenaikan: 55000\n",
            "Gaji diatur ulang menjadi 60000.\n",
            "Informasi terbaru: Employee: John Doe, Gaji: 60000\n"
          ]
        },
        {
          "output_type": "error",
          "ename": "AttributeError",
          "evalue": "'Employee' object has no attribute '__salary'",
          "traceback": [
            "\u001b[0;31m---------------------------------------------------------------------------\u001b[0m",
            "\u001b[0;31mAttributeError\u001b[0m                            Traceback (most recent call last)",
            "\u001b[0;32m<ipython-input-24-703ca0fea96a>\u001b[0m in \u001b[0;36m<cell line: 0>\u001b[0;34m()\u001b[0m\n\u001b[1;32m     38\u001b[0m   \u001b[0mprint\u001b[0m\u001b[0;34m(\u001b[0m\u001b[0;34mf\"Informasi terbaru: {employee1.get_employee_info()}\"\u001b[0m\u001b[0;34m)\u001b[0m\u001b[0;34m\u001b[0m\u001b[0;34m\u001b[0m\u001b[0m\n\u001b[1;32m     39\u001b[0m \u001b[0;34m\u001b[0m\u001b[0m\n\u001b[0;32m---> 40\u001b[0;31m   \u001b[0mprint\u001b[0m \u001b[0;34m(\u001b[0m\u001b[0memployee1\u001b[0m\u001b[0;34m.\u001b[0m\u001b[0m__salary\u001b[0m\u001b[0;34m)\u001b[0m\u001b[0;34m\u001b[0m\u001b[0;34m\u001b[0m\u001b[0m\n\u001b[0m",
            "\u001b[0;31mAttributeError\u001b[0m: 'Employee' object has no attribute '__salary'"
          ]
        }
      ]
    },
    {
      "cell_type": "markdown",
      "source": [
        "Praktikum 03: Konstruktor dan Destruktor Sederhana"
      ],
      "metadata": {
        "id": "W3o2pOlbsmPL"
      }
    },
    {
      "cell_type": "code",
      "source": [
        "class SimpleExample:\n",
        "  def __init__(self, name):\n",
        "    self.name = name\n",
        "    print(f\"Konstruktor: Objek '{self.name}' telah dibuat.\")\n",
        "\n",
        "  def __del__(self):\n",
        "    print(f\"Destruktor: Objek '{self.name}' sedang dihapus\")\n",
        "\n",
        "def main():\n",
        "  print(\"Program dimulai.\\n\")\n",
        "\n",
        "  obj = SimpleExample(\"Demo\")\n",
        "  print(\"Program sedang berjalan ...\\n\")\n",
        "\n",
        "  del obj\n",
        "  print(\"Objek telah dihapus secara eksplisit.\\n\")\n",
        "\n",
        "  print(\"Program selesai.\")\n",
        "\n",
        "if __name__ == \"__main__\":\n",
        "  main()"
      ],
      "metadata": {
        "colab": {
          "base_uri": "https://localhost:8080/"
        },
        "id": "kTwHXrHssp0W",
        "outputId": "d9ad9bb2-a395-4ca8-e6fc-f73e4449976d"
      },
      "execution_count": null,
      "outputs": [
        {
          "output_type": "stream",
          "name": "stdout",
          "text": [
            "Program dimulai.\n",
            "\n",
            "Konstruktor: Objek 'Demo' telah dibuat.\n",
            "Program sedang berjalan ...\n",
            "\n",
            "Destruktor: Objek 'Demo' sedang dihapus\n",
            "Objek telah dihapus secara eksplisit.\n",
            "\n",
            "Program selesai.\n"
          ]
        }
      ]
    },
    {
      "cell_type": "markdown",
      "source": [
        "Praktikum 04: Konstruktor dan Destruktor program FileLogger"
      ],
      "metadata": {
        "id": "Rw0KUKIw2NiH"
      }
    },
    {
      "cell_type": "code",
      "source": [
        "class FileLogger:\n",
        "  def __init__(self, filename):\n",
        "    self.filename = filename\n",
        "    try:\n",
        "      self.file = open(filename, \"a\")\n",
        "      print(f\"File '{filename}' berhasil dibuka untuk logging\")\n",
        "    except Exception as e:\n",
        "      print(f\"Gagal membuka fila '{filename}': {e}\")\n",
        "\n",
        "  def write_log(self, message):\n",
        "    self.file.write(message + \"\\n\")\n",
        "    self.file.flush()\n",
        "    print(f\"Pesan log: '{message}' telah ditulis.\")\n",
        "\n",
        "  def __del__(self):\n",
        "    if hasattr(self, \"file\") and not self.file.closed:\n",
        "      self.file.close()\n",
        "      print(f\"File '{self.filename}' telah ditutup.\")\n",
        "\n",
        "if __name__ == \"__main__\":\n",
        "  logger = FileLogger(\"application.log\")\n",
        "  logger.write_log(\"Aplikasi dimulai.\")\n",
        "  logger.write_log(\"Melakukan operasi A ...\")\n",
        "  logger.write_log(\"Operasi A selesai.\")\n",
        "  logger.write_log(\"Aplikasi akan segera selesai.\")\n",
        "\n",
        "  del logger"
      ],
      "metadata": {
        "colab": {
          "base_uri": "https://localhost:8080/"
        },
        "id": "k4hO_PRz2XNO",
        "outputId": "10a4fec5-b641-40a0-e953-3233dbff88ce"
      },
      "execution_count": null,
      "outputs": [
        {
          "output_type": "stream",
          "name": "stdout",
          "text": [
            "File 'application.log' berhasil dibuka untuk logging\n",
            "Pesan log: 'Aplikasi dimulai.' telah ditulis.\n",
            "Pesan log: 'Melakukan operasi A ...' telah ditulis.\n",
            "Pesan log: 'Operasi A selesai.' telah ditulis.\n",
            "Pesan log: 'Aplikasi akan segera selesai.' telah ditulis.\n",
            "File 'application.log' telah ditutup.\n"
          ]
        }
      ]
    },
    {
      "cell_type": "markdown",
      "source": [
        "Praktikum 05: Properti \"self\" pada kelas"
      ],
      "metadata": {
        "id": "gHmE-EI44wek"
      }
    },
    {
      "cell_type": "code",
      "source": [
        "class Calculator:\n",
        "  def __init__(self, initial_value=0):\n",
        "    self.value = initial_value\n",
        "    print(f\"Kalkulator diinisialisasi dengan nilai: {self.value}\")\n",
        "\n",
        "  def add(self, number):\n",
        "    self.value += number\n",
        "    print(f\"Setelah penambahan {number}, nilai sekarang adalah: {self.value}\")\n",
        "\n",
        "  def subtract(self, number):\n",
        "    self.value -= number\n",
        "    print(f\"Setelah pengungaran {number}, nilai sekarang adalah: {self.value}\")\n",
        "\n",
        "  def reset(self):\n",
        "    self.value = 0\n",
        "    print(\"Nilai telah direset ke 0.\")\n",
        "\n",
        "  def show_value(self):\n",
        "    print(f\"Nilai saat ini adalah: {self.value}\")\n",
        "\n",
        "def main():\n",
        "  calc = Calculator(initial_value=10)\n",
        "  calc.add(5)\n",
        "  calc.subtract(3)\n",
        "  calc.show_value()\n",
        "\n",
        "  calc2 = Calculator()\n",
        "  calc2.add(20)\n",
        "  calc2.show_value()\n",
        "\n",
        "if __name__ == \"__main__\":\n",
        "  main()"
      ],
      "metadata": {
        "colab": {
          "base_uri": "https://localhost:8080/"
        },
        "id": "PUmnzLk141hi",
        "outputId": "17da8675-eca4-4d98-afbe-e8a841e6f47a"
      },
      "execution_count": null,
      "outputs": [
        {
          "output_type": "stream",
          "name": "stdout",
          "text": [
            "Kalkulator diinisialisasi dengan nilai: 10\n",
            "Setelah penambahan 5, nilai sekarang adalah: 15\n",
            "Setelah pengungaran 3, nilai sekarang adalah: 12\n",
            "Nilai saat ini adalah: 12\n",
            "Kalkulator diinisialisasi dengan nilai: 0\n",
            "Setelah penambahan 20, nilai sekarang adalah: 20\n",
            "Nilai saat ini adalah: 20\n"
          ]
        }
      ]
    },
    {
      "cell_type": "markdown",
      "source": [
        "Praktikum 06: Menggunakan getter, setter, dan dekorator @property untuk mengelola akses atribut"
      ],
      "metadata": {
        "id": "DBz0xMHg8Hcl"
      }
    },
    {
      "cell_type": "code",
      "source": [
        "class Person:\n",
        "  def __init__(self, name, age):\n",
        "    self.__name = name\n",
        "    self.__age = age\n",
        "\n",
        "  @property\n",
        "  def name(self):\n",
        "    return self.__name\n",
        "\n",
        "  @name.setter\n",
        "  def name(self, value):\n",
        "    if not value:\n",
        "      print(\"Nama tidak boleh kosong.\")\n",
        "    else:\n",
        "      self.__name = value\n",
        "\n",
        "  @property\n",
        "  def age(self):\n",
        "    return self.__age\n",
        "\n",
        "  @age.setter\n",
        "  def age(self, value):\n",
        "    if value < 0:\n",
        "      print(\"Umur tidak boleh negatif!\")\n",
        "    else:\n",
        "      self.__age = value\n",
        "\n",
        "def main():\n",
        "  person = Person(\"Alice\", 30)\n",
        "  print(f\"Nama: {person.name}, Umur: {person.age}\")\n",
        "\n",
        "  person.name = \"Bob\"\n",
        "  person.age = 35\n",
        "  print(f\"Nama Baru: {person.name}, Umur Baru: {person.age}\")\n",
        "\n",
        "  person.age = -5\n",
        "\n",
        "if __name__ == \"__main__\":\n",
        "  main()\n"
      ],
      "metadata": {
        "colab": {
          "base_uri": "https://localhost:8080/"
        },
        "id": "T8TuUsVZ8QU9",
        "outputId": "d8876930-b42c-4963-b6d7-789158a3d948"
      },
      "execution_count": null,
      "outputs": [
        {
          "output_type": "stream",
          "name": "stdout",
          "text": [
            "Nama: Alice, Umur: 30\n",
            "Nama Baru: Bob, Umur Baru: 35\n",
            "Umur tidak boleh negatif!\n"
          ]
        }
      ]
    },
    {
      "cell_type": "markdown",
      "source": [
        "Penugasan"
      ],
      "metadata": {
        "id": "SIYatGbh-KaT"
      }
    },
    {
      "cell_type": "code",
      "source": [
        "class Student:\n",
        "    def __init__(self, name, score):\n",
        "        self.__name = name\n",
        "        self.__score = None\n",
        "        self.__grade = None\n",
        "        self.score = score\n",
        "\n",
        "    @property\n",
        "    def name(self):\n",
        "        return self.__name\n",
        "\n",
        "    @name.setter\n",
        "    def name(self, value):\n",
        "        self.__name = value\n",
        "\n",
        "    @property\n",
        "    def score(self):\n",
        "        return self.__score\n",
        "\n",
        "    @score.setter\n",
        "    def score(self, value):\n",
        "        if 0 <= value <= 100:\n",
        "            self.__score = value\n",
        "            self.__update_grade()\n",
        "        else:\n",
        "            raise ValueError(\"Score harus antara 0 hingga 100.\")\n",
        "\n",
        "    # Getter untuk grade\n",
        "    @property\n",
        "    def grade(self):\n",
        "        return self.__grade\n",
        "\n",
        "    # Method internal untuk update grade berdasarkan score\n",
        "    def __update_grade(self):\n",
        "        if self.__score >= 90:\n",
        "            self.__grade = \"A\"\n",
        "        elif self.__score >= 80:\n",
        "            self.__grade = \"B\"\n",
        "        elif self.__score >= 70:\n",
        "            self.__grade = \"C\"\n",
        "        elif self.__score >= 60:\n",
        "            self.__grade = \"D\"\n",
        "        else:\n",
        "            self.__grade = \"E\"\n",
        "\n",
        "    # Menampilkan informasi lengkap\n",
        "    def show_info(self):\n",
        "        print(f\"Nama Mahasiswa: {self.__name}\")\n",
        "        print(f\"Nilai: {self.__score}\")\n",
        "        print(f\"Grade: {self.__grade}\")\n",
        "\n",
        "    # Destruktor\n",
        "    def __del__(self):\n",
        "        print(f\"Data mahasiswa {self.__name} telah dihapus dari sistem.\")\n",
        "\n",
        "def main():\n",
        "  mhs = Student(\"Sasa\", 80)\n",
        "  mhs.show_info()\n",
        "  print()\n",
        "  mhs.score = 90\n",
        "  mhs.show_info()\n",
        "  print()\n",
        "  del mhs\n",
        "\n",
        "if __name__ == \"__main__\":\n",
        "  main()\n"
      ],
      "metadata": {
        "id": "IltHwgMf3wgm",
        "outputId": "a5da848d-8eb5-4f37-9ab7-d9aacff4b5f6",
        "colab": {
          "base_uri": "https://localhost:8080/"
        }
      },
      "execution_count": 10,
      "outputs": [
        {
          "output_type": "stream",
          "name": "stdout",
          "text": [
            "Nama Mahasiswa: Sasa\n",
            "Nilai: 80\n",
            "Grade: B\n",
            "\n",
            "Nama Mahasiswa: Sasa\n",
            "Nilai: 90\n",
            "Grade: A\n",
            "\n",
            "Data mahasiswa Sasa telah dihapus dari sistem.\n"
          ]
        }
      ]
    }
  ]
}
